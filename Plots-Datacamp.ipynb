{
 "cells": [
  {
   "cell_type": "code",
   "execution_count": null,
   "metadata": {
    "collapsed": true
   },
   "outputs": [
    {
     "ename": "NameError",
     "evalue": "name 'plt' is not defined",
     "traceback": [
      "\u001b[0;31m---------------------------------------------------------------------------\u001b[0m",
      "\u001b[0;31mNameError\u001b[0m                                 Traceback (most recent call last)",
      "\u001b[0;32m<ipython-input-1-f89bdb52777f>\u001b[0m in \u001b[0;36m<module>\u001b[0;34m()\u001b[0m\n\u001b[1;32m      1\u001b[0m \u001b[0;31m# Load the image into an array: img\u001b[0m\u001b[0;34m\u001b[0m\u001b[0;34m\u001b[0m\u001b[0m\n\u001b[0;32m----> 2\u001b[0;31m \u001b[0mimg\u001b[0m \u001b[0;34m=\u001b[0m \u001b[0mplt\u001b[0m\u001b[0;34m.\u001b[0m\u001b[0mimread\u001b[0m\u001b[0;34m(\u001b[0m\u001b[0;34m'480px-Astronaut-EVA.jpg'\u001b[0m\u001b[0;34m)\u001b[0m\u001b[0;34m\u001b[0m\u001b[0m\n\u001b[0m\u001b[1;32m      3\u001b[0m \u001b[0;34m\u001b[0m\u001b[0m\n\u001b[1;32m      4\u001b[0m \u001b[0;31m# Print the shape of the image\u001b[0m\u001b[0;34m\u001b[0m\u001b[0;34m\u001b[0m\u001b[0m\n\u001b[1;32m      5\u001b[0m \u001b[0mprint\u001b[0m\u001b[0;34m(\u001b[0m\u001b[0mimg\u001b[0m\u001b[0;34m.\u001b[0m\u001b[0mshape\u001b[0m\u001b[0;34m)\u001b[0m\u001b[0;34m\u001b[0m\u001b[0m\n",
      "\u001b[0;31mNameError\u001b[0m: name 'plt' is not defined"
     ],
     "output_type": "error"
    }
   ],
   "source": [
    "import matplotlib.pyplot as plt\n",
    "import numpy as np\n",
    "\n",
    "# Load the image into an array: img\n",
    "img = plt.imread('480px-Astronaut-EVA.jpg')\n",
    "\n",
    "# Print the shape of the image\n",
    "print(img.shape)\n",
    "\n",
    "# Compute the sum of the red, green and blue channels: intensity\n",
    "intensity = img.sum(axis=2)\n",
    "\n",
    "# Print the shape of the intensity\n",
    "print(intensity.shape)\n",
    "\n",
    "# Display the intensity with a colormap of 'gray'\n",
    "plt.imshow(intensity, cmap='gray')\n",
    "\n",
    "# Add a colorbar\n",
    "plt.colorbar()\n",
    "\n",
    "# Hide the axes and show the figure\n",
    "plt.axis('off')\n",
    "\n",
    "plt.show()\n",
    "    "
   ]
  },
  {
   "cell_type": "code",
   "execution_count": null,
   "metadata": {},
   "outputs": [],
   "source": [
    "# Load the image into an array: img\n",
    "img = plt.imread('480px-Astronaut-EVA.jpg')\n",
    "\n",
    "# Specify the extent and aspect ratio of the top left subplot\n",
    "plt.subplot(2,2,1)\n",
    "plt.title('extent=(-1,1,-1,1),\\naspect=0.5')\n",
    "plt.xticks([-1,0,1])\n",
    "plt.yticks([-1,0,1])\n",
    "plt.imshow(img, extent=(-1,1,-1,1), aspect=0.5)\n",
    "\n",
    "# Specify the extent and aspect ratio of the top right subplot\n",
    "plt.subplot(2,2,2)\n",
    "plt.title('extent=(-1,1,-1,1),\\naspect=1')\n",
    "plt.xticks([-1,0,1])\n",
    "plt.yticks([-1,0,1])\n",
    "plt.imshow(img, extent=(-1,1,-1,1), aspect=1)\n",
    "\n",
    "# Specify the extent and aspect ratio of the bottom left subplot\n",
    "plt.subplot(2,2,3)\n",
    "plt.title('extent=(-1,1,-1,1),\\naspect=2')\n",
    "plt.xticks([-1,0,1])\n",
    "plt.yticks([-1,0,1])\n",
    "plt.imshow(img, extent=(-1,1,-1,1), aspect=2)\n",
    "\n",
    "# Specify the extent and aspect ratio of the bottom right subplot\n",
    "plt.subplot(2,2,4)\n",
    "plt.title('extent=(-2,2,-1,1),\\naspect=2')\n",
    "plt.xticks([-2,-1,0,1,2])\n",
    "plt.yticks([-1,0,1])\n",
    "plt.imshow(img, extent=(-2,2,-1,1), aspect=2)\n",
    "\n",
    "# Improve spacing and display the figure\n",
    "plt.tight_layout()\n",
    "plt.show()"
   ]
  },
  {
   "cell_type": "code",
   "execution_count": null,
   "metadata": {},
   "outputs": [],
   "source": [
    "'''Rescaling pixel intensities\n",
    "Sometimes, low contrast images can be improved by rescaling their intensities. For instance, this image of Hawkes Bay, New Zealand (originally by Phillip Capper, modified by User:Konstable, via Wikimedia Commons, CC BY 2.0) has no pixel values near 0 or near 255 (the limits of valid intensities).\n",
    "\n",
    "For this exercise, you will do a simple rescaling (remember, an image is NumPy array) to translate and stretch the pixel intensities so that the intensities of the new image fill the range from 0 to 255'''\n",
    "\n",
    "# Load the image into an array: image\n",
    "image = plt.imread('640px-Unequalized_Hawkes_Bay_NZ.jpg')\n",
    "\n",
    "# Extract minimum and maximum values from the image: pmin, pmax\n",
    "pmin, pmax = image.min(), image.max()\n",
    "print(\"The smallest & largest pixel intensities are %d & %d.\" % (pmin, pmax))\n",
    "\n",
    "# Rescale the pixels: rescaled_image\n",
    "rescaled_image = 256*(image - pmin) / (pmax - pmin)\n",
    "print(\"The rescaled smallest & largest pixel intensities are %.1f & %.1f.\" % \n",
    "      (rescaled_image.min(), rescaled_image.max()))\n",
    "\n",
    "# Display the original image in the top subplot\n",
    "plt.subplot(2,1,1)\n",
    "plt.title('original image')\n",
    "plt.axis('off')\n",
    "plt.imshow(image)\n",
    "\n",
    "# Display the rescaled image in the bottom subplot\n",
    "plt.subplot(2,1,2)\n",
    "plt.title('rescaled image')\n",
    "plt.axis('off')\n",
    "plt.imshow(rescaled_image)\n",
    "\n",
    "plt.show()\n"
   ]
  },
  {
   "cell_type": "code",
   "execution_count": 1,
   "metadata": {},
   "outputs": [],
   "source": [
    "#rescaled image\n",
    "# Load the image into an array: image\n",
    "image = plt.imread('640px-Unequalized_Hawkes_Bay_NZ.jpg')\n",
    "\n",
    "# Extract minimum and maximum values from the image: pmin, pmax\n",
    "pmin, pmax = image.min(), image.max()\n",
    "print(\"The smallest & largest pixel intensities are %d & %d.\" % (pmin, pmax))\n",
    "\n",
    "# Rescale the pixels: rescaled_image\n",
    "rescaled_image = 256*(image - pmin) / (pmax - pmin)\n",
    "print(\"The rescaled smallest & largest pixel intensities are %.1f & %.1f.\" % \n",
    "      (rescaled_image.min(), rescaled_image.max()))\n",
    "\n",
    "# Display the original image in the top subplot\n",
    "plt.subplot(2,1,1)\n",
    "plt.title('original image')\n",
    "plt.axis('off')\n",
    "plt.imshow(image)\n",
    "\n",
    "# Display the rescaled image in the bottom subplot\n",
    "plt.subplot(2,1,2)\n",
    "plt.title('rescaled image')\n",
    "plt.axis('off')\n",
    "plt.imshow(rescaled_image)\n",
    "\n",
    "plt.show()\n"
   ]
  },
  {
   "cell_type": "code",
   "execution_count": null,
   "metadata": {},
   "outputs": [],
   "source": []
  },
  {
   "cell_type": "code",
   "execution_count": null,
   "metadata": {},
   "outputs": [],
   "source": []
  },
  {
   "cell_type": "code",
   "execution_count": null,
   "metadata": {},
   "outputs": [],
   "source": []
  },
  {
   "cell_type": "code",
   "execution_count": null,
   "metadata": {},
   "outputs": [],
   "source": []
  },
  {
   "cell_type": "code",
   "execution_count": null,
   "metadata": {},
   "outputs": [],
   "source": []
  },
  {
   "cell_type": "code",
   "execution_count": null,
   "metadata": {},
   "outputs": [],
   "source": []
  },
  {
   "cell_type": "code",
   "execution_count": null,
   "metadata": {},
   "outputs": [],
   "source": []
  },
  {
   "cell_type": "code",
   "execution_count": null,
   "metadata": {},
   "outputs": [],
   "source": []
  }
 ],
 "metadata": {
  "kernelspec": {
   "display_name": "Python 2",
   "language": "python",
   "name": "python2"
  },
  "language_info": {
   "codemirror_mode": {
    "name": "ipython",
    "version": 2
   },
   "file_extension": ".py",
   "mimetype": "text/x-python",
   "name": "python",
   "nbconvert_exporter": "python",
   "pygments_lexer": "ipython2",
   "version": "2.7.6"
  }
 },
 "nbformat": 4,
 "nbformat_minor": 0
}
