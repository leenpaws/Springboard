{
 "cells": [
  {
   "cell_type": "code",
   "execution_count": null,
   "metadata": {
    "collapsed": true
   },
   "outputs": [],
   "source": [
    "#pythonpandascookbook5\n",
    "%pylab inline\n",
    "\n",
    "import numpy as np\n",
    "\n",
    "import matplotlib.pyplot as plt\n",
    "\n",
    "x = np.random.normal(size=1000)\n",
    "fig, ax = plt.subplots()\n",
    "H = ax.hist(x, bins=50, alpha=.5, histtype='stepfilled')\n",
    "\n",
    "#pie diagrams using function pie\n",
    "\n",
    "fracs = [30, 15, 45, 10]\n",
    "colors = ['b', 'g', 'r', 'w']\n",
    "\n",
    "fig, ax = plt.subplots(figsize=(6, 6))  # make the plot square\n",
    "pie = ax.pie(fracs, colors=colors, explode=(0, 0, 0.05, 0), shadow=True,\n",
    "             labels=['A', 'B', 'C', 'D'])\n",
    "\n",
    "\n"
   ]
  },
  {
   "cell_type": "code",
   "execution_count": null,
   "metadata": {},
   "outputs": [],
   "source": [
    "#Seaborn= python visualization library\n"
   ]
  }
 ],
 "metadata": {
  "kernelspec": {
   "display_name": "Python 2",
   "language": "python",
   "name": "python2"
  },
  "language_info": {
   "codemirror_mode": {
    "name": "ipython",
    "version": 2.0
   },
   "file_extension": ".py",
   "mimetype": "text/x-python",
   "name": "python",
   "nbconvert_exporter": "python",
   "pygments_lexer": "ipython2",
   "version": "2.7.6"
  }
 },
 "nbformat": 4,
 "nbformat_minor": 0
}