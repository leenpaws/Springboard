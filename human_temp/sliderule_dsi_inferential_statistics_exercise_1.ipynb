{
 "cells": [
  {
   "cell_type": "markdown",
   "metadata": {},
   "source": [
    "# What is the True Normal Human Body Temperature? \n",
    "\n",
    "#### Background\n",
    "\n",
    "The mean normal body temperature was held to be 37$^{\\circ}$C or 98.6$^{\\circ}$F for more than 120 years since it was first conceptualized and reported by Carl Wunderlich in a famous 1868 book. But, is this value statistically correct?"
   ]
  },
  {
   "cell_type": "markdown",
   "metadata": {},
   "source": [
    "<h3>Exercises</h3>\n",
    "\n",
    "<p>In this exercise, you will analyze a dataset of human body temperatures and employ the concepts of hypothesis testing, confidence intervals, and statistical significance.</p>\n",
    "\n",
    "<p>Answer the following questions <b>in this notebook below and submit to your Github account</b>.</p> \n",
    "\n",
    "<ol>\n",
    "<li>  Is the distribution of body temperatures normal? \n",
    "    <ul>\n",
    "    <li> Although this is not a requirement for CLT to hold (read CLT carefully), it gives us some peace of mind that the population may also be normally distributed if we assume that this sample is representative of the population.\n",
    "    </ul>\n",
    "<li>  Is the sample size large? Are the observations independent?\n",
    "    <ul>\n",
    "    <li> Remember that this is a condition for the CLT, and hence the statistical tests we are using, to apply.\n",
    "    </ul>\n",
    "<li>  Is the true population mean really 98.6 degrees F?\n",
    "    <ul>\n",
    "    <li> Would you use a one-sample or two-sample test? Why?\n",
    "    <li> In this situation, is it appropriate to use the $t$ or $z$ statistic? \n",
    "    <li> Now try using the other test. How is the result be different? Why?\n",
    "    </ul>\n",
    "<li>  Draw a small sample of size 10 from the data and repeat both tests. \n",
    "    <ul>\n",
    "    <li> Which one is the correct one to use? \n",
    "    <li> What do you notice? What does this tell you about the difference in application of the $t$ and $z$ statistic?\n",
    "    </ul>\n",
    "<li>  At what temperature should we consider someone's temperature to be \"abnormal\"?\n",
    "    <ul>\n",
    "    <li> Start by computing the margin of error and confidence interval.\n",
    "    </ul>\n",
    "<li>  Is there a significant difference between males and females in normal temperature?\n",
    "    <ul>\n",
    "    <li> What test did you use and why?\n",
    "    <li> Write a story with your conclusion in the context of the original problem.\n",
    "    </ul>\n",
    "</ol>\n",
    "\n",
    "You can include written notes in notebook cells using Markdown: \n",
    "   - In the control panel at the top, choose Cell > Cell Type > Markdown\n",
    "   - Markdown syntax: http://nestacms.com/docs/creating-content/markdown-cheat-sheet\n",
    "\n",
    "#### Resources\n",
    "\n",
    "+ Information and data sources: http://www.amstat.org/publications/jse/datasets/normtemp.txt, http://www.amstat.org/publications/jse/jse_data_archive.htm\n",
    "+ Markdown syntax: http://nestacms.com/docs/creating-content/markdown-cheat-sheet\n",
    "\n",
    "****"
   ]
  },
  {
   "cell_type": "code",
   "execution_count": 112,
   "metadata": {
    "collapsed": true
   },
   "outputs": [],
   "source": [
    "import pandas as pd\n",
    "\n",
    "df = pd.read_csv('human_temp/data/human_body_temperature.csv')"
   ]
  },
  {
   "cell_type": "code",
   "execution_count": 113,
   "metadata": {},
   "outputs": [],
   "source": [
    "# Your work here.\n",
    "import pandas as pd\n",
    "import scipy.stats as stats\n",
    "import matplotlib.pyplot as plt\n",
    "import numpy as np\n",
    "import pprint\n",
    "\n",
    "#1.\n",
    "df = pd.read_csv('human_temp/data/human_body_temperature.csv')\n",
    "temp_mean = np.mean(df.temperature)\n",
    "temp_std = np.std(df.temperature)\n",
    "samples = np.random.normal(temp_mean,temp_std,size=10000)\n",
    "\n",
    "plt.hist(df.temperature, int(np.sqrt(len(df.temperature))),normed=True)\n",
    "plt.xlabel('DF Temperature')\n",
    "plt.ylabel('PDF')\n",
    "plt.show()\n",
    "\n",
    "plt.hist(samples,bins=int(np.sqrt(len(df.temperature))),normed=True)\n",
    "plt.xlabel('Permutation Sample Temperature')\n",
    "plt.ylabel('PDF')\n",
    "plt.show()"
   ]
  },
  {
   "cell_type": "code",
   "execution_count": 114,
   "metadata": {},
   "outputs": [
    {
     "name": "stdout",
     "output_type": "stream",
     "text": [
      "65 65\n98.1046153846154 98.39384615384613\n-0.1446153846153777 for male\n-97.55587088504791 for male\n0.14461538461534929 for female\n-97.51148432058788 for female\n"
     ]
    }
   ],
   "source": [
    "# 2. large sample size? independent observations?\n",
    "len(df)\n",
    "    \n",
    "#seperating data into Male and Female subsets\n",
    "sample_male = df[df.gender == 'M']\n",
    "sample_female = df[df.gender == 'F']\n",
    "\n",
    "#ensuring equal number of samples\n",
    "print(len(sample_male), len(sample_female))\n",
    "\n",
    "#\n",
    "male_temp_mean = np.mean(sample_male.temperature)\n",
    "male_temp_std = np.std(sample_male.temperature)\n",
    "\n",
    "female_temp_mean = np.mean(sample_female.temperature)\n",
    "female_temp_std = np.std(sample_female.temperature)\n",
    "\n",
    "print(male_temp_mean,female_temp_mean)\n",
    "\n",
    "print(-temp_mean+male_temp_mean, \"for male\")\n",
    "print(-temp_mean+male_temp_std, \"for male\")\n",
    "\n",
    "print(-temp_mean+female_temp_mean, \"for female\")\n",
    "print(-temp_mean+female_temp_std, \"for female\")"
   ]
  },
  {
   "cell_type": "code",
   "execution_count": 115,
   "metadata": {},
   "outputs": [
    {
     "name": "stdout",
     "output_type": "stream",
     "text": [
      "The true population mean is  98.24923076923078\nsample size is greater than 30 for both genders so z is more appropriate\nuse one sample test since we are comparing to a known value and there's no control group  and/or testing group and to maintain independence we can only use each measurement once\nnull hypothesis: 98.24923076923078 sample mean vs. 98.6 degree mean\nsample std dev 0.7303577789050377 # of observations 130\n"
     ]
    }
   ],
   "source": [
    "print(\"The true population mean is \", temp_mean)\n",
    "print(\"sample size is greater than 30 for both genders so z is more appropriate\")\n",
    "test_samples = np.random.normal(temp_mean,temp_std,size=10000)\n",
    "                                \n",
    "print(\"use one sample test since we are comparing to a known value\",\n",
    "      \"and there's no control group \",\n",
    "      \"and/or testing group and to maintain independence we can only use\",\n",
    "      \"each measurement once\")\n",
    "print(\"null hypothesis:\",\n",
    "      temp_mean, \"sample mean vs. 98.6 degree mean\")\n",
    "print(\"sample std dev\", temp_std,\n",
    "      \"# of observations\", len(df))"
   ]
  },
  {
   "cell_type": "code",
   "execution_count": 116,
   "metadata": {},
   "outputs": [
    {
     "name": "stdout",
     "output_type": "stream",
     "text": [
      "Ttest_1sampResult(statistic=-5.4548232923645195, pvalue=2.4106320415561276e-07)  t-statistic\n3.60067531346e-12 z stat\n"
     ]
    }
   ],
   "source": [
    "#t=np.sum(np.mean(df.temperature-98.6)/(np.std(df.temperature -98.6)/np.sqrt(len(df))))\n",
    "a=np.array(df.temperature)\n",
    "\n",
    "t = stats.ttest_1samp(a,98.6)\n",
    "print(t, \" t-statistic\")\n",
    "#s=np.random.standard_t(len(df.temperature),size=10000)\n",
    "#p=np.sum(s<t)/float(len(s))\n",
    "#print(p,\"p-value\")\n",
    "\n",
    "z=np.sum(np.mean(df.temperature-98.6)/(np.std(df.temperature -98.6)))\n",
    "zs=stats.zscore(a)\n",
    "zp=np.sum(zs)/(np.std(a -98.6)/np.sqrt(len(df)))\n",
    "print(np.sum(zs),\"z stat\")\n",
    "\n"
   ]
  },
  {
   "cell_type": "code",
   "execution_count": 117,
   "metadata": {},
   "outputs": [
    {
     "name": "stdout",
     "output_type": "stream",
     "text": [
      "Ttest_1sampResult(statistic=-1.5401210485736909, pvalue=0.15791725790106409)\n-2.89213097915e-14 z stat pvalue= -9.20622072052e-14\n"
     ]
    }
   ],
   "source": [
    "resample_df=a[::13]\n",
    "\n",
    "#t=np.sum(np.mean(resample_df-98.6)/(np.std(resample_df -98.6)/np.sqrt(len(df))))\n",
    "#print(t, \"t-statistic\")\n",
    "#s=np.random.standard_t(len(resample_df),size=10000)\n",
    "#p=np.sum(s<t)/float(len(s))\n",
    "#print(p,\"p-value\")\n",
    "\n",
    "t = stats.ttest_1samp(resample_df,98.6)\n",
    "print(t)\n",
    "#z=np.sum(np.mean(resample_df-98.6)/(np.std(resample_df -98.6)/np.sqrt(len(df))))\n",
    "zs= stats.zscore(resample_df)\n",
    "zp=np.sum(zs)/(np.std(resample_df -98.6)/np.sqrt(len(resample_df)))\n",
    "print(np.sum(zs),\"z stat\",\"pvalue=\",zp)\n"
   ]
  },
  {
   "cell_type": "code",
   "execution_count": 118,
   "metadata": {},
   "outputs": [
    {
     "name": "stdout",
     "output_type": "stream",
     "text": [
      "0.0643044168379\n[ 96.7225  97.8     98.3     98.7     99.4775]\n0.331142802361\n[ 96.625   97.45    97.8     98.65    99.8425]\n"
     ]
    }
   ],
   "source": [
    "print(stats.sem(a))\n",
    "percentiles=np.array([2.5,25,50,75,97.5])\n",
    "\n",
    "# Compute percentiles: ptiles_vers\n",
    "ptiles_a=np.percentile(a,percentiles)\n",
    "\n",
    "print(ptiles_a)\n",
    "print(stats.sem(resample_df))\n",
    "ptiles_resample_df=np.percentile(resample_df,percentiles)\n",
    "print(ptiles_resample_df)\n",
    "print(\"96.7 or 99.4 would be abnormal\")"
   ]
  },
  {
   "cell_type": "code",
   "execution_count": 120,
   "metadata": {},
   "outputs": [
    {
     "name": "stdout",
     "output_type": "stream",
     "text": [
      "p-value = 0.00769230769231\n"
     ]
    }
   ],
   "source": [
    "a_m=np.array(sample_male.temperature)\n",
    "a_f=np.array(sample_female.temperature)\n",
    "\n",
    "def diff_of_means(data_1, data_2):\n",
    "    \"\"\"Difference in means of two arrays.\"\"\"\n",
    "\n",
    "    # The difference of means of data_1, data_2: diff\n",
    "    diff = np.mean(data_1) - np.mean(data_2)\n",
    "\n",
    "    return diff\n",
    "\n",
    "# Compute difference of mean impact force from experiment: empirical_diff_means\n",
    "empirical_diff_means = diff_of_means(a_f, a_m)\n",
    "\n",
    "\n",
    "\n",
    "# Compute p-value: p\n",
    "p = np.sum(temp_mean >= empirical_diff_means) / len(df)\n",
    "\n",
    "# Print the result\n",
    "print('p-value =', p)"
   ]
  },
  {
   "cell_type": "code",
   "execution_count": 120,
   "metadata": {},
   "outputs": [],
   "source": []
  },
  {
   "cell_type": "code",
   "execution_count": 120,
   "metadata": {},
   "outputs": [],
   "source": []
  },
  {
   "cell_type": "code",
   "execution_count": 120,
   "metadata": {},
   "outputs": [],
   "source": []
  }
 ],
 "metadata": {
  "kernelspec": {
   "display_name": "Python 2",
   "language": "python",
   "name": "python2"
  },
  "language_info": {
   "codemirror_mode": {
    "name": "ipython",
    "version": 2
   },
   "file_extension": ".py",
   "mimetype": "text/x-python",
   "name": "python",
   "nbconvert_exporter": "python",
   "pygments_lexer": "ipython2",
   "version": "2.7.13"
  }
 },
 "nbformat": 4,
 "nbformat_minor": 1
}
