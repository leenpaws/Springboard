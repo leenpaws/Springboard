{
 "cells": [
  {
   "cell_type": "markdown",
   "metadata": {},
   "source": [
    "# JSON examples and exercise\n",
    "****\n",
    "+ get familiar with packages for dealing with JSON\n",
    "+ study examples with JSON strings and files \n",
    "+ work on exercise to be completed and submitted \n",
    "****\n",
    "+ reference: http://pandas.pydata.org/pandas-docs/stable/io.html#io-json-reader\n",
    "+ data source: http://jsonstudio.com/resources/\n",
    "****"
   ]
  },
  {
   "cell_type": "code",
   "execution_count": 1,
   "metadata": {
    "collapsed": true
   },
   "outputs": [],
   "source": [
    "import pandas as pd"
   ]
  },
  {
   "cell_type": "markdown",
   "metadata": {},
   "source": [
    "## imports for Python, Pandas"
   ]
  },
  {
   "cell_type": "code",
   "execution_count": 2,
   "metadata": {
    "collapsed": true
   },
   "outputs": [],
   "source": [
    "import json\n",
    "from pandas.io.json import json_normalize"
   ]
  },
  {
   "cell_type": "markdown",
   "metadata": {},
   "source": [
    "## JSON example, with string\n",
    "\n",
    "+ demonstrates creation of normalized dataframes (tables) from nested json string\n",
    "+ source: http://pandas.pydata.org/pandas-docs/stable/io.html#normalization"
   ]
  },
  {
   "cell_type": "code",
   "execution_count": 3,
   "metadata": {
    "collapsed": true
   },
   "outputs": [],
   "source": [
    "# define json string\n",
    "data = [{'state': 'Florida', \n",
    "         'shortname': 'FL',\n",
    "         'info': {'governor': 'Rick Scott'},\n",
    "         'counties': [{'name': 'Dade', 'population': 12345},\n",
    "                      {'name': 'Broward', 'population': 40000},\n",
    "                      {'name': 'Palm Beach', 'population': 60000}]},\n",
    "        {'state': 'Ohio',\n",
    "         'shortname': 'OH',\n",
    "         'info': {'governor': 'John Kasich'},\n",
    "         'counties': [{'name': 'Summit', 'population': 1234},\n",
    "                      {'name': 'Cuyahoga', 'population': 1337}]}]"
   ]
  },
  {
   "cell_type": "code",
   "execution_count": 4,
   "metadata": {
    "collapsed": false
   },
   "outputs": [],
   "source": [
    "# use normalization to create tables from nested element\n",
    "json_normalize(data, 'counties')"
   ]
  },
  {
   "cell_type": "code",
   "execution_count": 5,
   "metadata": {
    "collapsed": false
   },
   "outputs": [
    {
     "data": {
      "text/html": [
       "<div>\n",
       "<style>\n",
       "    .dataframe thead tr:only-child th {\n",
       "        text-align: right;\n",
       "    }\n",
       "\n",
       "    .dataframe thead th {\n",
       "        text-align: left;\n",
       "    }\n",
       "\n",
       "    .dataframe tbody tr th {\n",
       "        vertical-align: top;\n",
       "    }\n",
       "</style>\n",
       "<table border=\"1\" class=\"dataframe\">\n",
       "  <thead>\n",
       "    <tr style=\"text-align: right;\">\n",
       "      <th></th>\n",
       "      <th>name</th>\n",
       "      <th>population</th>\n",
       "      <th>info.governor</th>\n",
       "      <th>state</th>\n",
       "      <th>shortname</th>\n",
       "    </tr>\n",
       "  </thead>\n",
       "  <tbody>\n",
       "    <tr>\n",
       "      <th>0</th>\n",
       "      <td>Dade</td>\n",
       "      <td>12345</td>\n",
       "      <td>Rick Scott</td>\n",
       "      <td>Florida</td>\n",
       "      <td>FL</td>\n",
       "    </tr>\n",
       "    <tr>\n",
       "      <th>1</th>\n",
       "      <td>Broward</td>\n",
       "      <td>40000</td>\n",
       "      <td>Rick Scott</td>\n",
       "      <td>Florida</td>\n",
       "      <td>FL</td>\n",
       "    </tr>\n",
       "    <tr>\n",
       "      <th>2</th>\n",
       "      <td>Palm Beach</td>\n",
       "      <td>60000</td>\n",
       "      <td>Rick Scott</td>\n",
       "      <td>Florida</td>\n",
       "      <td>FL</td>\n",
       "    </tr>\n",
       "    <tr>\n",
       "      <th>3</th>\n",
       "      <td>Summit</td>\n",
       "      <td>1234</td>\n",
       "      <td>John Kasich</td>\n",
       "      <td>Ohio</td>\n",
       "      <td>OH</td>\n",
       "    </tr>\n",
       "    <tr>\n",
       "      <th>4</th>\n",
       "      <td>Cuyahoga</td>\n",
       "      <td>1337</td>\n",
       "      <td>John Kasich</td>\n",
       "      <td>Ohio</td>\n",
       "      <td>OH</td>\n",
       "    </tr>\n",
       "  </tbody>\n",
       "</table>\n",
       "</div>"
      ],
      "text/plain": [
       "<div>\n",
       "<style>\n",
       "    .dataframe thead tr:only-child th {\n",
       "        text-align: right;\n",
       "    }\n",
       "\n",
       "    .dataframe thead th {\n",
       "        text-align: left;\n",
       "    }\n",
       "\n",
       "    .dataframe tbody tr th {\n",
       "        vertical-align: top;\n",
       "    }\n",
       "</style>\n",
       "<table border=\"1\" class=\"dataframe\">\n",
       "  <thead>\n",
       "    <tr style=\"text-align: right;\">\n",
       "      <th></th>\n",
       "      <th>name</th>\n",
       "      <th>population</th>\n",
       "      <th>info.governor</th>\n",
       "      <th>state</th>\n",
       "      <th>shortname</th>\n",
       "    </tr>\n",
       "  </thead>\n",
       "  <tbody>\n",
       "    <tr>\n",
       "      <th>0</th>\n",
       "      <td>Dade</td>\n",
       "      <td>12345</td>\n",
       "      <td>Rick Scott</td>\n",
       "      <td>Florida</td>\n",
       "      <td>FL</td>\n",
       "    </tr>\n",
       "    <tr>\n",
       "      <th>1</th>\n",
       "      <td>Broward</td>\n",
       "      <td>40000</td>\n",
       "      <td>Rick Scott</td>\n",
       "      <td>Florida</td>\n",
       "      <td>FL</td>\n",
       "    </tr>\n",
       "    <tr>\n",
       "      <th>2</th>\n",
       "      <td>Palm Beach</td>\n",
       "      <td>60000</td>\n",
       "      <td>Rick Scott</td>\n",
       "      <td>Florida</td>\n",
       "      <td>FL</td>\n",
       "    </tr>\n",
       "    <tr>\n",
       "      <th>3</th>\n",
       "      <td>Summit</td>\n",
       "      <td>1234</td>\n",
       "      <td>John Kasich</td>\n",
       "      <td>Ohio</td>\n",
       "      <td>OH</td>\n",
       "    </tr>\n",
       "    <tr>\n",
       "      <th>4</th>\n",
       "      <td>Cuyahoga</td>\n",
       "      <td>1337</td>\n",
       "      <td>John Kasich</td>\n",
       "      <td>Ohio</td>\n",
       "      <td>OH</td>\n",
       "    </tr>\n",
       "  </tbody>\n",
       "</table>\n",
       "</div>"
      ]
     },
     "execution_count": 5,
     "metadata": {},
     "output_type": "execute_result"
    }
   ],
   "source": [
    "# further populate tables created from nested element\n",
    "json_normalize(data, 'counties', ['state', 'shortname', ['info', 'governor']])"
   ]
  },
  {
   "cell_type": "markdown",
   "metadata": {},
   "source": [
    "****\n",
    "## JSON example, with file\n",
    "\n",
    "+ demonstrates reading in a json file as a string and as a table\n",
    "+ uses small sample file containing data about projects funded by the World Bank \n",
    "+ data source: http://jsonstudio.com/resources/"
   ]
  },
  {
   "cell_type": "code",
   "execution_count": 6,
   "metadata": {
    "collapsed": true
   },
   "outputs": [],
   "source": [
    "# load json as string\n",
    "json.load((open('Data_Wrangling/data_wrangling_json/data/world_bank_projects_less.j'\n",
    "                'son')))"
   ]
  },
  {
   "cell_type": "code",
   "execution_count": 7,
   "metadata": {
    "collapsed": true
   },
   "outputs": [
    {
     "name": "stdout",
     "output_type": "stream",
     "text": [
      "                                      _id  approvalfy board_approval_month  \\\n0  {u'$oid': u'52b213b38594d8a2be17c780'}        1999             November   \n1  {u'$oid': u'52b213b38594d8a2be17c781'}        2015             November   \n\n      boardapprovaldate                                 borrower  \\\n0  2013-11-12T00:00:00Z  FEDERAL DEMOCRATIC REPUBLIC OF ETHIOPIA   \n1  2013-11-04T00:00:00Z                    GOVERNMENT OF TUNISIA   \n\n            closingdate                              country_namecode  \\\n0  2018-07-07T00:00:00Z  Federal Democratic Republic of Ethiopia!$!ET   \n1                   NaN                      Republic of Tunisia!$!TN   \n\n  countrycode                              countryname countryshortname  \\\n0          ET  Federal Democratic Republic of Ethiopia         Ethiopia   \n1          TN                      Republic of Tunisia          Tunisia   \n\n                         ...                           sectorcode source  \\\n0                        ...                          ET,BS,ES,EP   IBRD   \n1                        ...                                BZ,BS   IBRD   \n\n   status  supplementprojectflg  \\\n0  Active                     N   \n1  Active                     N   \n\n                                              theme1  \\\n0   {u'Percent': 100, u'Name': u'Education for all'}   \n1  {u'Percent': 30, u'Name': u'Other economic man...   \n\n                                      theme_namecode themecode   totalamt  \\\n0  [{u'code': u'65', u'name': u'Education for all'}]        65  130000000   \n1  [{u'code': u'24', u'name': u'Other economic ma...     54,24          0   \n\n  totalcommamt                                                url  \n0    130000000  http://www.worldbank.org/projects/P129828/ethi...  \n1      4700000  http://www.worldbank.org/projects/P144674?lang=en  \n\n[2 rows x 50 columns]\n"
     ]
    }
   ],
   "source": [
    "# load as Pandas dataframe\n",
    "sample_json_df = pd.read_json('Data_Wrangling/data_wrangling_json/data/world_bank_projects_less.json')\n",
    "print sample_json_df\n",
    "#sample_json_df.groupby([countryname])"
   ]
  },
  {
   "cell_type": "markdown",
   "metadata": {},
   "source": [
    "****\n",
    "## JSON exercise\n",
    "\n",
    "Using data in file 'data/world_bank_projects.json' and the techniques demonstrated above,\n",
    "1. Find the 10 countries with most projects\n",
    "2. Find the top 10 major project themes (using column 'mjtheme_namecode')\n",
    "3. In 2. above you will notice that some entries have only the code and the name is missing. Create a dataframe with the missing names filled in."
   ]
  },
  {
   "cell_type": "code",
   "execution_count": 8,
   "metadata": {
    "collapsed": true
   },
   "outputs": [
    {
     "data": {
      "text/plain": [
       "People's Republic of China         19\nRepublic of Indonesia              19\nSocialist Republic of Vietnam      17\nRepublic of India                  16\nRepublic of Yemen                  13\nKingdom of Morocco                 12\nPeople's Republic of Bangladesh    12\nNepal                              12\nRepublic of Mozambique             11\nAfrica                             11\nName: countryname, dtype: int64"
      ]
     },
     "execution_count": 8,
     "metadata": {},
     "output_type": "execute_result"
    }
   ],
   "source": [
    "#1 Find the 10 countries with the most projects\n",
    "import json\n",
    "import pandas as pd\n",
    "from pandas.io.json import json_normalize\n",
    "world_bank_projects_df = pd.read_json('Data_Wrangling/data_wrangling_json/data/world_bank_projects.json')\n",
    "world_bank_projects_df_country = world_bank_projects_df.countryname\n",
    "world_bank_projects_df.countryname.value_counts().head(10)"
   ]
  },
  {
   "cell_type": "code",
   "execution_count": 9,
   "metadata": {
    "collapsed": true
   },
   "outputs": [
    {
     "data": {
      "text/plain": [
       "[{u'code': u'11', u'name': u'Environment and natural resources management'}, {u'code': u'11', u'name': u'Environment and natural resources management'}]                                                                                            12\n[{u'code': u'8', u'name': u'Human development'}, {u'code': u'11', u'name': u''}]                                                                                                                                                                    11\n[{u'code': u'8', u'name': u'Human development'}, {u'code': u'8', u'name': u'Human development'}]                                                                                                                                                     8\n[{u'code': u'4', u'name': u'Financial and private sector development'}, {u'code': u'4', u'name': u'Financial and private sector development'}]                                                                                                       6\n[{u'code': u'2', u'name': u'Public sector governance'}, {u'code': u'2', u'name': u'Public sector governance'}, {u'code': u'2', u'name': u'Public sector governance'}]                                                                                6\n[{u'code': u'8', u'name': u'Human development'}, {u'code': u'7', u'name': u'Social dev/gender/inclusion'}]                                                                                                                                           5\n[{u'code': u'8', u'name': u'Human development'}, {u'code': u'8', u'name': u'Human development'}, {u'code': u'8', u'name': u'Human development'}, {u'code': u'8', u'name': u'Human development'}, {u'code': u'8', u'name': u'Human development'}]     5\n[{u'code': u'11', u'name': u'Environment and natural resources management'}, {u'code': u'11', u'name': u''}]                                                                                                                                         5\n[{u'code': u'11', u'name': u'Environment and natural resources management'}, {u'code': u'4', u'name': u''}]                                                                                                                                          5\n[{u'code': u'4', u'name': u'Financial and private sector development'}, {u'code': u'5', u'name': u'Trade and integration'}]                                                                                                                          5\nName: mjtheme_namecode, dtype: int64"
      ]
     },
     "execution_count": 9,
     "metadata": {},
     "output_type": "execute_result"
    }
   ],
   "source": [
    "world_bank_projects_df.mjtheme_namecode.value_counts().head(10)"
   ]
  },
  {
   "cell_type": "code",
   "execution_count": 10,
   "metadata": {},
   "outputs": [
    {
     "name": "stdout",
     "output_type": "stream",
     "text": [
      "(u'11', u'Environment and natural resources management', 250)\n(u'10', u'Rural development', 216)\n(u'1', u'Economic management', 38)\n(u'3', u'Rule of law', 15)\n(u'2', u'Public sector governance', 199)\n(u'5', u'Trade and integration', 77)\n(u'4', u'Financial and private sector development', 146)\n(u'7', u'Social dev/gender/inclusion', 130)\n(u'6', u'Social protection and risk management', 168)\n(u'9', u'Urban development', 50)\n(u'8', u'Human development', 210)\n"
     ]
    }
   ],
   "source": [
    "from collections import defaultdict\n",
    "from pprint import pprint\n",
    "table = world_bank_projects_df.mjtheme_namecode\n",
    "code_names = {}\n",
    "code_counts = defaultdict(int)\n",
    "\n",
    "for dictlist in table:\n",
    "    for d in dictlist:\n",
    "        code, name = d['code'], d['name']\n",
    "        if code not in code_names or (name != '' and code_names[code] == ''):\n",
    "            code_names[code] = name\n",
    "        elif name != '' and code_names[code] != '' and name != code_names[code]:\n",
    "            raise Exception('duplicate non-empty value for code: {}'.format(code))\n",
    "        code_counts[code] += 1\n",
    "\n",
    "for code in code_names.keys():\n",
    "    print(code, code_names[code], code_counts[code])"
   ]
  },
  {
   "cell_type": "code",
   "execution_count": 11,
   "metadata": {},
   "outputs": [],
   "source": [
    "data = world_bank_projects_df.mjtheme_namecode.value_counts().head(10)"
   ]
  },
  {
   "cell_type": "code",
   "execution_count": 16,
   "metadata": {},
   "outputs": [
    {
     "name": "stdout",
     "output_type": "stream",
     "text": [
      "(u'11', u'Environment and natural resources management', 250)\n(u'10', u'Rural development', 216)\n(u'1', u'Economic management', 38)\n(u'3', u'Rule of law', 15)\n(u'2', u'Public sector governance', 199)\n(u'5', u'Trade and integration', 77)\n(u'4', u'Financial and private sector development', 146)\n(u'7', u'Social dev/gender/inclusion', 130)\n(u'6', u'Social protection and risk management', 168)\n(u'9', u'Urban development', 50)\n(u'8', u'Human development', 210)\n"
     ]
    },
    {
     "ename": "KeyError",
     "evalue": "u''",
     "traceback": [
      "\u001b[0;31m\u001b[0m",
      "\u001b[0;31mKeyError\u001b[0mTraceback (most recent call last)",
      "\u001b[0;32m<ipython-input-16-b4b5fd6656ff>\u001b[0m in \u001b[0;36m<module>\u001b[0;34m()\u001b[0m\n\u001b[1;32m     32\u001b[0m         \u001b[0mcode\u001b[0m\u001b[0;34m,\u001b[0m \u001b[0mname\u001b[0m \u001b[0;34m=\u001b[0m \u001b[0md\u001b[0m\u001b[0;34m[\u001b[0m\u001b[0;34m'code'\u001b[0m\u001b[0;34m]\u001b[0m\u001b[0;34m,\u001b[0m \u001b[0md\u001b[0m\u001b[0;34m[\u001b[0m\u001b[0;34m'name'\u001b[0m\u001b[0;34m]\u001b[0m\u001b[0;34m\u001b[0m\u001b[0m\n\u001b[1;32m     33\u001b[0m         \u001b[0;32mif\u001b[0m \u001b[0md\u001b[0m\u001b[0;34m[\u001b[0m\u001b[0;34m'name'\u001b[0m\u001b[0;34m]\u001b[0m \u001b[0;34m==\u001b[0m \u001b[0;34m''\u001b[0m\u001b[0;34m:\u001b[0m\u001b[0;34m\u001b[0m\u001b[0m\n\u001b[0;32m---> 34\u001b[0;31m             \u001b[0md\u001b[0m\u001b[0;34m[\u001b[0m\u001b[0;34m'name'\u001b[0m\u001b[0;34m]\u001b[0m \u001b[0;34m=\u001b[0m \u001b[0mcode_names\u001b[0m\u001b[0;34m[\u001b[0m\u001b[0mname\u001b[0m\u001b[0;34m]\u001b[0m\u001b[0;34m\u001b[0m\u001b[0m\n\u001b[0m",
      "\u001b[0;31mKeyError\u001b[0m: u''"
     ],
     "output_type": "error"
    }
   ],
   "source": [
    "# less elegant way of doing it\n",
    "from collections import defaultdict\n",
    "from pprint import pprint\n",
    "\n",
    "table = world_bank_projects_df.mjtheme_namecode\n",
    "code_names = {}\n",
    "code_counts = defaultdict(int)\n",
    "\n",
    "for dictlist in table:\n",
    "    for d in dictlist:\n",
    "        code, name = d['code'], d['name']\n",
    "        if code not in code_names:\n",
    "            code_names[code] = name\n",
    "        elif name != '' and code_names[code] == '':\n",
    "            code_names[code] = name\n",
    "        elif name == '' and code_names[code] == '':\n",
    "            pass\n",
    "        elif name == '' and code_names[code] != '':\n",
    "            pass\n",
    "        elif name != '' and code_names[code] != '': \n",
    "            if name != code_names[code]:\n",
    "                raise Exception('duplicate non-empty value for code: {}'.format(code))\n",
    "            else:\n",
    "                pass\n",
    "        code_counts[code] += 1\n",
    "\n",
    "for code in code_names.keys():\n",
    "    print(code, code_names[code], code_counts[code])\n",
    "\n",
    "for dictlist in table:\n",
    "    for d in dictlist:\n",
    "        code, name = d['code'], d['name']\n",
    "        if d['name'] == '':\n",
    "            d['name'] = code_names[name]"
   ]
  },
  {
   "cell_type": "code",
   "execution_count": 14,
   "metadata": {
    "collapsed": false
   },
   "outputs": [
    {
     "name": "stdout",
     "output_type": "stream",
     "text": [
      "(u'11', u'Environment and natural resources management', 250)\n(u'10', u'Rural development', 216)\n(u'1', u'Economic management', 38)\n(u'3', u'Rule of law', 15)\n(u'2', u'Public sector governance', 199)\n(u'5', u'Trade and integration', 77)\n(u'4', u'Financial and private sector development', 146)\n(u'7', u'Social dev/gender/inclusion', 130)\n(u'6', u'Social protection and risk management', 168)\n(u'9', u'Urban development', 50)\n(u'8', u'Human development', 210)\n"
     ]
    }
   ],
   "source": [
    "from collections import defaultdict\n",
    "from pprint import pprint\n",
    "\n",
    "table = world_bank_projects_df.mjtheme_namecode\n",
    "\n",
    "code_names = {}\n",
    "code_counts = defaultdict(int)\n",
    "\n",
    "for dictlist in table:\n",
    "    for d in dictlist:\n",
    "        code, name = d['code'], d['name']\n",
    "        if code not in code_names:\n",
    "            # new code we haven't seen yet\n",
    "            code_names[code] = name\n",
    "        elif name != '' and code_names[code] == '':\n",
    "            # replace blank name with a non-blank name\n",
    "            code_names[code] = name\n",
    "        elif name == '' and code_names[code] == '':\n",
    "            # both are blank so do nothing\n",
    "            pass\n",
    "        elif name == '' and code_names[code] != '':\n",
    "            # previous is non-blank and current is blank so do nothing\n",
    "            pass\n",
    "        elif name != '' and code_names[code] != '': \n",
    "            # both are non-blank so investigate names further\n",
    "            if name != code_names[code]:\n",
    "                # non-empty names don't match so throw exception\n",
    "                raise Exception('duplicate non-empty value for code: {}'.format(code))\n",
    "            else:\n",
    "                # non-empty names match so do nothing\n",
    "                pass\n",
    "        code_counts[code] += 1\n",
    "\n",
    "for code in code_names.keys():\n",
    "    print(code, code_names[code], code_counts[code])\n",
    "    \n",
    "for dictlist in table:\n",
    "    for d in dictlist:\n",
    "        code, name = d['code'], d['name']\n",
    "        if name == '':\n",
    "                d['name'] = code_names[code]"
   ]
  },
  {
   "cell_type": "code",
   "execution_count": 17,
   "metadata": {
    "collapsed": true
   },
   "outputs": [
    {
     "data": {
      "text/plain": [
       "[{u'code': u'11', u'name': u'Environment and natural resources management'}, {u'code': u'11', u'name': u'Environment and natural resources management'}]                                                                                            12\n[{u'code': u'8', u'name': u'Human development'}, {u'code': u'11', u'name': u''}]                                                                                                                                                                    11\n[{u'code': u'8', u'name': u'Human development'}, {u'code': u'8', u'name': u'Human development'}]                                                                                                                                                     8\n[{u'code': u'4', u'name': u'Financial and private sector development'}, {u'code': u'4', u'name': u'Financial and private sector development'}]                                                                                                       6\n[{u'code': u'2', u'name': u'Public sector governance'}, {u'code': u'2', u'name': u'Public sector governance'}, {u'code': u'2', u'name': u'Public sector governance'}]                                                                                6\n[{u'code': u'8', u'name': u'Human development'}, {u'code': u'7', u'name': u'Social dev/gender/inclusion'}]                                                                                                                                           5\n[{u'code': u'8', u'name': u'Human development'}, {u'code': u'8', u'name': u'Human development'}, {u'code': u'8', u'name': u'Human development'}, {u'code': u'8', u'name': u'Human development'}, {u'code': u'8', u'name': u'Human development'}]     5\n[{u'code': u'11', u'name': u'Environment and natural resources management'}, {u'code': u'11', u'name': u''}]                                                                                                                                         5\n[{u'code': u'11', u'name': u'Environment and natural resources management'}, {u'code': u'4', u'name': u''}]                                                                                                                                          5\n[{u'code': u'4', u'name': u'Financial and private sector development'}, {u'code': u'5', u'name': u'Trade and integration'}]                                                                                                                          5\nName: mjtheme_namecode, dtype: int64"
      ]
     },
     "execution_count": 17,
     "metadata": {},
     "output_type": "execute_result"
    }
   ],
   "source": [
    "world_bank_projects_df.mjtheme_namecode.value_counts().head(10)"
   ]
  },
  {
   "cell_type": "code",
   "execution_count": 18,
   "metadata": {
    "collapsed": true
   },
   "outputs": [
    {
     "ename": "TypeError",
     "evalue": "unhashable type: 'list'",
     "traceback": [
      "\u001b[0;31m\u001b[0m",
      "\u001b[0;31mTypeError\u001b[0mTraceback (most recent call last)",
      "\u001b[0;32m<ipython-input-18-92e43e5b4bbc>\u001b[0m in \u001b[0;36m<module>\u001b[0;34m()\u001b[0m\n\u001b[1;32m      4\u001b[0m \u001b[0;34m\u001b[0m\u001b[0m\n\u001b[1;32m      5\u001b[0m \u001b[0;32mfor\u001b[0m \u001b[0mentry\u001b[0m \u001b[0;32min\u001b[0m \u001b[0mdata\u001b[0m\u001b[0;34m:\u001b[0m\u001b[0;34m\u001b[0m\u001b[0m\n\u001b[0;32m----> 6\u001b[0;31m     \u001b[0mjson_normalize\u001b[0m\u001b[0;34m(\u001b[0m\u001b[0mdata\u001b[0m\u001b[0;34m[\u001b[0m\u001b[0;34m'mjtheme_namecode'\u001b[0m\u001b[0;34m,\u001b[0m \u001b[0;34m[\u001b[0m\u001b[0;34m'name'\u001b[0m\u001b[0;34m,\u001b[0m \u001b[0;34m'code'\u001b[0m\u001b[0;34m]\u001b[0m\u001b[0;34m]\u001b[0m\u001b[0;34m)\u001b[0m\u001b[0;31m#, 'countryname', ['mjtheme_namecode', ['code', 'name']])\u001b[0m\u001b[0;34m\u001b[0m\u001b[0m\n\u001b[0m",
      "\u001b[0;32m/home/skultra/anaconda2/lib/python2.7/site-packages/pandas/core/frame.pyc\u001b[0m in \u001b[0;36m__getitem__\u001b[0;34m(self, key)\u001b[0m\n\u001b[1;32m   2060\u001b[0m             \u001b[0;32mreturn\u001b[0m \u001b[0mself\u001b[0m\u001b[0;34m.\u001b[0m\u001b[0m_getitem_multilevel\u001b[0m\u001b[0;34m(\u001b[0m\u001b[0mkey\u001b[0m\u001b[0;34m)\u001b[0m\u001b[0;34m\u001b[0m\u001b[0m\n\u001b[1;32m   2061\u001b[0m         \u001b[0;32melse\u001b[0m\u001b[0;34m:\u001b[0m\u001b[0;34m\u001b[0m\u001b[0m\n\u001b[0;32m-> 2062\u001b[0;31m             \u001b[0;32mreturn\u001b[0m \u001b[0mself\u001b[0m\u001b[0;34m.\u001b[0m\u001b[0m_getitem_column\u001b[0m\u001b[0;34m(\u001b[0m\u001b[0mkey\u001b[0m\u001b[0;34m)\u001b[0m\u001b[0;34m\u001b[0m\u001b[0m\n\u001b[0m\u001b[1;32m   2063\u001b[0m \u001b[0;34m\u001b[0m\u001b[0m\n\u001b[1;32m   2064\u001b[0m     \u001b[0;32mdef\u001b[0m \u001b[0m_getitem_column\u001b[0m\u001b[0;34m(\u001b[0m\u001b[0mself\u001b[0m\u001b[0;34m,\u001b[0m \u001b[0mkey\u001b[0m\u001b[0;34m)\u001b[0m\u001b[0;34m:\u001b[0m\u001b[0;34m\u001b[0m\u001b[0m\n",
      "\u001b[0;32m/home/skultra/anaconda2/lib/python2.7/site-packages/pandas/core/frame.pyc\u001b[0m in \u001b[0;36m_getitem_column\u001b[0;34m(self, key)\u001b[0m\n\u001b[1;32m   2067\u001b[0m         \u001b[0;31m# get column\u001b[0m\u001b[0;34m\u001b[0m\u001b[0;34m\u001b[0m\u001b[0m\n\u001b[1;32m   2068\u001b[0m         \u001b[0;32mif\u001b[0m \u001b[0mself\u001b[0m\u001b[0;34m.\u001b[0m\u001b[0mcolumns\u001b[0m\u001b[0;34m.\u001b[0m\u001b[0mis_unique\u001b[0m\u001b[0;34m:\u001b[0m\u001b[0;34m\u001b[0m\u001b[0m\n\u001b[0;32m-> 2069\u001b[0;31m             \u001b[0;32mreturn\u001b[0m \u001b[0mself\u001b[0m\u001b[0;34m.\u001b[0m\u001b[0m_get_item_cache\u001b[0m\u001b[0;34m(\u001b[0m\u001b[0mkey\u001b[0m\u001b[0;34m)\u001b[0m\u001b[0;34m\u001b[0m\u001b[0m\n\u001b[0m\u001b[1;32m   2070\u001b[0m \u001b[0;34m\u001b[0m\u001b[0m\n\u001b[1;32m   2071\u001b[0m         \u001b[0;31m# duplicate columns & possible reduce dimensionality\u001b[0m\u001b[0;34m\u001b[0m\u001b[0;34m\u001b[0m\u001b[0m\n",
      "\u001b[0;32m/home/skultra/anaconda2/lib/python2.7/site-packages/pandas/core/generic.pyc\u001b[0m in \u001b[0;36m_get_item_cache\u001b[0;34m(self, item)\u001b[0m\n\u001b[1;32m   1530\u001b[0m         \u001b[0;34m\"\"\"Return the cached item, item represents a label indexer.\"\"\"\u001b[0m\u001b[0;34m\u001b[0m\u001b[0m\n\u001b[1;32m   1531\u001b[0m         \u001b[0mcache\u001b[0m \u001b[0;34m=\u001b[0m \u001b[0mself\u001b[0m\u001b[0;34m.\u001b[0m\u001b[0m_item_cache\u001b[0m\u001b[0;34m\u001b[0m\u001b[0m\n\u001b[0;32m-> 1532\u001b[0;31m         \u001b[0mres\u001b[0m \u001b[0;34m=\u001b[0m \u001b[0mcache\u001b[0m\u001b[0;34m.\u001b[0m\u001b[0mget\u001b[0m\u001b[0;34m(\u001b[0m\u001b[0mitem\u001b[0m\u001b[0;34m)\u001b[0m\u001b[0;34m\u001b[0m\u001b[0m\n\u001b[0m\u001b[1;32m   1533\u001b[0m         \u001b[0;32mif\u001b[0m \u001b[0mres\u001b[0m \u001b[0;32mis\u001b[0m \u001b[0mNone\u001b[0m\u001b[0;34m:\u001b[0m\u001b[0;34m\u001b[0m\u001b[0m\n\u001b[1;32m   1534\u001b[0m             \u001b[0mvalues\u001b[0m \u001b[0;34m=\u001b[0m \u001b[0mself\u001b[0m\u001b[0;34m.\u001b[0m\u001b[0m_data\u001b[0m\u001b[0;34m.\u001b[0m\u001b[0mget\u001b[0m\u001b[0;34m(\u001b[0m\u001b[0mitem\u001b[0m\u001b[0;34m)\u001b[0m\u001b[0;34m\u001b[0m\u001b[0m\n",
      "\u001b[0;31mTypeError\u001b[0m: unhashable type: 'list'"
     ],
     "output_type": "error"
    }
   ],
   "source": [
    "from pandas.io.json import json_normalize\n",
    "\n",
    "data = world_bank_projects_df#.mjtheme_namecode#.value_counts().head(10)\n",
    "\n",
    "for entry in data:\n",
    "    json_normalize(data['mjtheme_namecode', ['name', 'code']])#, 'countryname', ['mjtheme_namecode', ['code', 'name']])"
   ]
  },
  {
   "cell_type": "code",
   "execution_count": 17,
   "metadata": {},
   "outputs": [],
   "source": [
    ""
   ]
  },
  {
   "cell_type": "code",
   "execution_count": null,
   "metadata": {},
   "outputs": [],
   "source": [
    ""
   ]
  }
 ],
 "metadata": {
  "kernelspec": {
   "display_name": "Python 2",
   "language": "python",
   "name": "python2"
  },
  "language_info": {
   "codemirror_mode": {
    "name": "ipython",
    "version": 2.0
   },
   "file_extension": ".py",
   "mimetype": "text/x-python",
   "name": "python",
   "nbconvert_exporter": "python",
   "pygments_lexer": "ipython2",
   "version": "2.7.9"
  }
 },
 "nbformat": 4,
 "nbformat_minor": 0
}