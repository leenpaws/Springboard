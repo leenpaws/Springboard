{
 "cells": [
  {
   "cell_type": "markdown",
   "metadata": {},
   "source": [
    "# JSON examples and exercise\n",
    "****\n",
    "+ get familiar with packages for dealing with JSON\n",
    "+ study examples with JSON strings and files \n",
    "+ work on exercise to be completed and submitted \n",
    "****\n",
    "+ reference: http://pandas.pydata.org/pandas-docs/stable/io.html#io-json-reader\n",
    "+ data source: http://jsonstudio.com/resources/\n",
    "****"
   ]
  },
  {
   "cell_type": "code",
   "execution_count": null,
   "metadata": {
    "collapsed": true
   },
   "outputs": [],
   "source": [
    "import pandas as pd"
   ]
  },
  {
   "cell_type": "markdown",
   "metadata": {},
   "source": [
    "## imports for Python, Pandas"
   ]
  },
  {
   "cell_type": "code",
   "execution_count": 3,
   "metadata": {
    "collapsed": true
   },
   "outputs": [],
   "source": [
    "import json\n",
    "from pandas.io.json import json_normalize"
   ]
  },
  {
   "cell_type": "markdown",
   "metadata": {},
   "source": [
    "## JSON example, with string\n",
    "\n",
    "+ demonstrates creation of normalized dataframes (tables) from nested json string\n",
    "+ source: http://pandas.pydata.org/pandas-docs/stable/io.html#normalization"
   ]
  },
  {
   "cell_type": "code",
   "execution_count": 4,
   "metadata": {
    "collapsed": true
   },
   "outputs": [],
   "source": [
    "# define json string\n",
    "data = [{'state': 'Florida', \n",
    "         'shortname': 'FL',\n",
    "         'info': {'governor': 'Rick Scott'},\n",
    "         'counties': [{'name': 'Dade', 'population': 12345},\n",
    "                      {'name': 'Broward', 'population': 40000},\n",
    "                      {'name': 'Palm Beach', 'population': 60000}]},\n",
    "        {'state': 'Ohio',\n",
    "         'shortname': 'OH',\n",
    "         'info': {'governor': 'John Kasich'},\n",
    "         'counties': [{'name': 'Summit', 'population': 1234},\n",
    "                      {'name': 'Cuyahoga', 'population': 1337}]}]"
   ]
  },
  {
   "cell_type": "code",
   "execution_count": 5,
   "metadata": {
    "collapsed": false
   },
   "outputs": [
    {
     "data": {
      "text/html": [
       "<div>\n",
       "<style>\n",
       "    .dataframe thead tr:only-child th {\n",
       "        text-align: right;\n",
       "    }\n",
       "\n",
       "    .dataframe thead th {\n",
       "        text-align: left;\n",
       "    }\n",
       "\n",
       "    .dataframe tbody tr th {\n",
       "        vertical-align: top;\n",
       "    }\n",
       "</style>\n",
       "<table border=\"1\" class=\"dataframe\">\n",
       "  <thead>\n",
       "    <tr style=\"text-align: right;\">\n",
       "      <th></th>\n",
       "      <th>name</th>\n",
       "      <th>population</th>\n",
       "    </tr>\n",
       "  </thead>\n",
       "  <tbody>\n",
       "    <tr>\n",
       "      <th>0</th>\n",
       "      <td>Dade</td>\n",
       "      <td>12345</td>\n",
       "    </tr>\n",
       "    <tr>\n",
       "      <th>1</th>\n",
       "      <td>Broward</td>\n",
       "      <td>40000</td>\n",
       "    </tr>\n",
       "    <tr>\n",
       "      <th>2</th>\n",
       "      <td>Palm Beach</td>\n",
       "      <td>60000</td>\n",
       "    </tr>\n",
       "    <tr>\n",
       "      <th>3</th>\n",
       "      <td>Summit</td>\n",
       "      <td>1234</td>\n",
       "    </tr>\n",
       "    <tr>\n",
       "      <th>4</th>\n",
       "      <td>Cuyahoga</td>\n",
       "      <td>1337</td>\n",
       "    </tr>\n",
       "  </tbody>\n",
       "</table>\n",
       "</div>"
      ],
      "text/plain": [
       "<div>\n",
       "<style>\n",
       "    .dataframe thead tr:only-child th {\n",
       "        text-align: right;\n",
       "    }\n",
       "\n",
       "    .dataframe thead th {\n",
       "        text-align: left;\n",
       "    }\n",
       "\n",
       "    .dataframe tbody tr th {\n",
       "        vertical-align: top;\n",
       "    }\n",
       "</style>\n",
       "<table border=\"1\" class=\"dataframe\">\n",
       "  <thead>\n",
       "    <tr style=\"text-align: right;\">\n",
       "      <th></th>\n",
       "      <th>name</th>\n",
       "      <th>population</th>\n",
       "    </tr>\n",
       "  </thead>\n",
       "  <tbody>\n",
       "    <tr>\n",
       "      <th>0</th>\n",
       "      <td>Dade</td>\n",
       "      <td>12345</td>\n",
       "    </tr>\n",
       "    <tr>\n",
       "      <th>1</th>\n",
       "      <td>Broward</td>\n",
       "      <td>40000</td>\n",
       "    </tr>\n",
       "    <tr>\n",
       "      <th>2</th>\n",
       "      <td>Palm Beach</td>\n",
       "      <td>60000</td>\n",
       "    </tr>\n",
       "    <tr>\n",
       "      <th>3</th>\n",
       "      <td>Summit</td>\n",
       "      <td>1234</td>\n",
       "    </tr>\n",
       "    <tr>\n",
       "      <th>4</th>\n",
       "      <td>Cuyahoga</td>\n",
       "      <td>1337</td>\n",
       "    </tr>\n",
       "  </tbody>\n",
       "</table>\n",
       "</div>"
      ]
     },
     "execution_count": 5,
     "metadata": {},
     "output_type": "execute_result"
    }
   ],
   "source": [
    "# use normalization to create tables from nested element\n",
    "json_normalize(data, 'counties')"
   ]
  },
  {
   "cell_type": "code",
   "execution_count": 6,
   "metadata": {
    "collapsed": false
   },
   "outputs": [
    {
     "data": {
      "text/html": [
       "<div>\n",
       "<style>\n",
       "    .dataframe thead tr:only-child th {\n",
       "        text-align: right;\n",
       "    }\n",
       "\n",
       "    .dataframe thead th {\n",
       "        text-align: left;\n",
       "    }\n",
       "\n",
       "    .dataframe tbody tr th {\n",
       "        vertical-align: top;\n",
       "    }\n",
       "</style>\n",
       "<table border=\"1\" class=\"dataframe\">\n",
       "  <thead>\n",
       "    <tr style=\"text-align: right;\">\n",
       "      <th></th>\n",
       "      <th>name</th>\n",
       "      <th>population</th>\n",
       "      <th>info.governor</th>\n",
       "      <th>state</th>\n",
       "      <th>shortname</th>\n",
       "    </tr>\n",
       "  </thead>\n",
       "  <tbody>\n",
       "    <tr>\n",
       "      <th>0</th>\n",
       "      <td>Dade</td>\n",
       "      <td>12345</td>\n",
       "      <td>Rick Scott</td>\n",
       "      <td>Florida</td>\n",
       "      <td>FL</td>\n",
       "    </tr>\n",
       "    <tr>\n",
       "      <th>1</th>\n",
       "      <td>Broward</td>\n",
       "      <td>40000</td>\n",
       "      <td>Rick Scott</td>\n",
       "      <td>Florida</td>\n",
       "      <td>FL</td>\n",
       "    </tr>\n",
       "    <tr>\n",
       "      <th>2</th>\n",
       "      <td>Palm Beach</td>\n",
       "      <td>60000</td>\n",
       "      <td>Rick Scott</td>\n",
       "      <td>Florida</td>\n",
       "      <td>FL</td>\n",
       "    </tr>\n",
       "    <tr>\n",
       "      <th>3</th>\n",
       "      <td>Summit</td>\n",
       "      <td>1234</td>\n",
       "      <td>John Kasich</td>\n",
       "      <td>Ohio</td>\n",
       "      <td>OH</td>\n",
       "    </tr>\n",
       "    <tr>\n",
       "      <th>4</th>\n",
       "      <td>Cuyahoga</td>\n",
       "      <td>1337</td>\n",
       "      <td>John Kasich</td>\n",
       "      <td>Ohio</td>\n",
       "      <td>OH</td>\n",
       "    </tr>\n",
       "  </tbody>\n",
       "</table>\n",
       "</div>"
      ],
      "text/plain": [
       "<div>\n",
       "<style>\n",
       "    .dataframe thead tr:only-child th {\n",
       "        text-align: right;\n",
       "    }\n",
       "\n",
       "    .dataframe thead th {\n",
       "        text-align: left;\n",
       "    }\n",
       "\n",
       "    .dataframe tbody tr th {\n",
       "        vertical-align: top;\n",
       "    }\n",
       "</style>\n",
       "<table border=\"1\" class=\"dataframe\">\n",
       "  <thead>\n",
       "    <tr style=\"text-align: right;\">\n",
       "      <th></th>\n",
       "      <th>name</th>\n",
       "      <th>population</th>\n",
       "      <th>info.governor</th>\n",
       "      <th>state</th>\n",
       "      <th>shortname</th>\n",
       "    </tr>\n",
       "  </thead>\n",
       "  <tbody>\n",
       "    <tr>\n",
       "      <th>0</th>\n",
       "      <td>Dade</td>\n",
       "      <td>12345</td>\n",
       "      <td>Rick Scott</td>\n",
       "      <td>Florida</td>\n",
       "      <td>FL</td>\n",
       "    </tr>\n",
       "    <tr>\n",
       "      <th>1</th>\n",
       "      <td>Broward</td>\n",
       "      <td>40000</td>\n",
       "      <td>Rick Scott</td>\n",
       "      <td>Florida</td>\n",
       "      <td>FL</td>\n",
       "    </tr>\n",
       "    <tr>\n",
       "      <th>2</th>\n",
       "      <td>Palm Beach</td>\n",
       "      <td>60000</td>\n",
       "      <td>Rick Scott</td>\n",
       "      <td>Florida</td>\n",
       "      <td>FL</td>\n",
       "    </tr>\n",
       "    <tr>\n",
       "      <th>3</th>\n",
       "      <td>Summit</td>\n",
       "      <td>1234</td>\n",
       "      <td>John Kasich</td>\n",
       "      <td>Ohio</td>\n",
       "      <td>OH</td>\n",
       "    </tr>\n",
       "    <tr>\n",
       "      <th>4</th>\n",
       "      <td>Cuyahoga</td>\n",
       "      <td>1337</td>\n",
       "      <td>John Kasich</td>\n",
       "      <td>Ohio</td>\n",
       "      <td>OH</td>\n",
       "    </tr>\n",
       "  </tbody>\n",
       "</table>\n",
       "</div>"
      ]
     },
     "execution_count": 6,
     "metadata": {},
     "output_type": "execute_result"
    }
   ],
   "source": [
    "# further populate tables created from nested element\n",
    "json_normalize(data, 'counties', ['state', 'shortname', ['info', 'governor']])"
   ]
  },
  {
   "cell_type": "markdown",
   "metadata": {},
   "source": [
    "****\n",
    "## JSON example, with file\n",
    "\n",
    "+ demonstrates reading in a json file as a string and as a table\n",
    "+ uses small sample file containing data about projects funded by the World Bank \n",
    "+ data source: http://jsonstudio.com/resources/"
   ]
  },
  {
   "cell_type": "code",
   "execution_count": 7,
   "metadata": {
    "collapsed": true
   },
   "outputs": [
    {
     "data": {
      "text/plain": [
       "[{u'_id': {u'$oid': u'52b213b38594d8a2be17c780'},\n  u'approvalfy': 1999,\n  u'board_approval_month': u'November',\n  u'boardapprovaldate': u'2013-11-12T00:00:00Z',\n  u'borrower': u'FEDERAL DEMOCRATIC REPUBLIC OF ETHIOPIA',\n  u'closingdate': u'2018-07-07T00:00:00Z',\n  u'country_namecode': u'Federal Democratic Republic of Ethiopia!$!ET',\n  u'countrycode': u'ET',\n  u'countryname': u'Federal Democratic Republic of Ethiopia',\n  u'countryshortname': u'Ethiopia',\n  u'docty': u'Project Information Document,Indigenous Peoples Plan,Project Information Document',\n  u'envassesmentcategorycode': u'C',\n  u'grantamt': 0,\n  u'ibrdcommamt': 0,\n  u'id': u'P129828',\n  u'idacommamt': 130000000,\n  u'impagency': u'MINISTRY OF EDUCATION',\n  u'lendinginstr': u'Investment Project Financing',\n  u'lendinginstrtype': u'IN',\n  u'lendprojectcost': 550000000,\n  u'majorsector_percent': [{u'Name': u'Education', u'Percent': 46},\n   {u'Name': u'Education', u'Percent': 26},\n   {u'Name': u'Public Administration, Law, and Justice', u'Percent': 16},\n   {u'Name': u'Education', u'Percent': 12}],\n  u'mjsector_namecode': [{u'code': u'EX', u'name': u'Education'},\n   {u'code': u'EX', u'name': u'Education'},\n   {u'code': u'BX', u'name': u'Public Administration, Law, and Justice'},\n   {u'code': u'EX', u'name': u'Education'}],\n  u'mjtheme': [u'Human development'],\n  u'mjtheme_namecode': [{u'code': u'8', u'name': u'Human development'},\n   {u'code': u'11', u'name': u''}],\n  u'mjthemecode': u'8,11',\n  u'prodline': u'PE',\n  u'prodlinetext': u'IBRD/IDA',\n  u'productlinetype': u'L',\n  u'project_abstract': {u'cdata': u'The development objective of the Second Phase of General Education Quality Improvement Project for Ethiopia is to improve learning conditions in primary and secondary schools and strengthen institutions at different levels of educational administration. The project has six components. The first component is curriculum, textbooks, assessment, examinations, and inspection. This component will support improvement of learning conditions in grades KG-12 by providing increased access to teaching and learning materials and through improvements to the curriculum by assessing the strengths and weaknesses of the current curriculum. This component has following four sub-components: (i) curriculum reform and implementation; (ii) teaching and learning materials; (iii) assessment and examinations; and (iv) inspection. The second component is teacher development program (TDP). This component will support improvements in learning conditions in both primary and secondary schools by advancing the quality of teaching in general education through: (a) enhancing the training of pre-service teachers in teacher education institutions; and (b) improving the quality of in-service teacher training. This component has following three sub-components: (i) pre-service teacher training; (ii) in-service teacher training; and (iii) licensing and relicensing of teachers and school leaders. The third component is school improvement plan. This component will support the strengthening of school planning in order to improve learning outcomes, and to partly fund the school improvement plans through school grants. It has following two sub-components: (i) school improvement plan; and (ii) school grants. The fourth component is management and capacity building, including education management information systems (EMIS). This component will support management and capacity building aspect of the project. This component has following three sub-components: (i) capacity building for education planning and management; (ii) capacity building for school planning and management; and (iii) EMIS. The fifth component is improving the quality of learning and teaching in secondary schools and universities through the use of information and communications technology (ICT). It has following five sub-components: (i) national policy and institution for ICT in general education; (ii) national ICT infrastructure improvement plan for general education; (iii) develop an integrated monitoring, evaluation, and learning system specifically for the ICT component; (iv) teacher professional development in the use of ICT; and (v) provision of limited number of e-Braille display readers with the possibility to scale up to all secondary education schools based on the successful implementation and usage of the readers. The sixth component is program coordination, monitoring and evaluation, and communication. It will support institutional strengthening by developing capacities in all aspects of program coordination, monitoring and evaluation; a new sub-component on communications will support information sharing for better management and accountability. It has following three sub-components: (i) program coordination; (ii) monitoring and evaluation (M and E); and (iii) communication.'},\n  u'project_name': u'Ethiopia General Education Quality Improvement Project II',\n  u'projectdocs': [{u'DocDate': u'28-AUG-2013',\n    u'DocType': u'PID',\n    u'DocTypeDesc': u'Project Information Document (PID),  Vol.',\n    u'DocURL': u'http://www-wds.worldbank.org/servlet/WDSServlet?pcont=details&eid=090224b081e545fb_1_0',\n    u'EntityID': u'090224b081e545fb_1_0'},\n   {u'DocDate': u'01-JUL-2013',\n    u'DocType': u'IP',\n    u'DocTypeDesc': u'Indigenous Peoples Plan (IP),  Vol.1 of 1',\n    u'DocURL': u'http://www-wds.worldbank.org/servlet/WDSServlet?pcont=details&eid=000442464_20130920111729',\n    u'EntityID': u'000442464_20130920111729'},\n   {u'DocDate': u'22-NOV-2012',\n    u'DocType': u'PID',\n    u'DocTypeDesc': u'Project Information Document (PID),  Vol.',\n    u'DocURL': u'http://www-wds.worldbank.org/servlet/WDSServlet?pcont=details&eid=090224b0817b19e2_1_0',\n    u'EntityID': u'090224b0817b19e2_1_0'}],\n  u'projectfinancialtype': u'IDA',\n  u'projectstatusdisplay': u'Active',\n  u'regionname': u'Africa',\n  u'sector': [{u'Name': u'Primary education'},\n   {u'Name': u'Secondary education'},\n   {u'Name': u'Public administration- Other social services'},\n   {u'Name': u'Tertiary education'}],\n  u'sector1': {u'Name': u'Primary education', u'Percent': 46},\n  u'sector2': {u'Name': u'Secondary education', u'Percent': 26},\n  u'sector3': {u'Name': u'Public administration- Other social services',\n   u'Percent': 16},\n  u'sector4': {u'Name': u'Tertiary education', u'Percent': 12},\n  u'sector_namecode': [{u'code': u'EP', u'name': u'Primary education'},\n   {u'code': u'ES', u'name': u'Secondary education'},\n   {u'code': u'BS', u'name': u'Public administration- Other social services'},\n   {u'code': u'ET', u'name': u'Tertiary education'}],\n  u'sectorcode': u'ET,BS,ES,EP',\n  u'source': u'IBRD',\n  u'status': u'Active',\n  u'supplementprojectflg': u'N',\n  u'theme1': {u'Name': u'Education for all', u'Percent': 100},\n  u'theme_namecode': [{u'code': u'65', u'name': u'Education for all'}],\n  u'themecode': u'65',\n  u'totalamt': 130000000,\n  u'totalcommamt': 130000000,\n  u'url': u'http://www.worldbank.org/projects/P129828/ethiopia-general-education-quality-improvement-project-ii?lang=en'},\n {u'_id': {u'$oid': u'52b213b38594d8a2be17c781'},\n  u'approvalfy': 2015,\n  u'board_approval_month': u'November',\n  u'boardapprovaldate': u'2013-11-04T00:00:00Z',\n  u'borrower': u'GOVERNMENT OF TUNISIA',\n  u'country_namecode': u'Republic of Tunisia!$!TN',\n  u'countrycode': u'TN',\n  u'countryname': u'Republic of Tunisia',\n  u'countryshortname': u'Tunisia',\n  u'docty': u'Project Information Document,Integrated Safeguards Data Sheet,Integrated Safeguards Data Sheet,Project Information Document,Integrated Safeguards Data Sheet,Project Information Document',\n  u'envassesmentcategorycode': u'C',\n  u'grantamt': 4700000,\n  u'ibrdcommamt': 0,\n  u'id': u'P144674',\n  u'idacommamt': 0,\n  u'impagency': u'MINISTRY OF FINANCE',\n  u'lendinginstr': u'Specific Investment Loan',\n  u'lendinginstrtype': u'IN',\n  u'lendprojectcost': 5700000,\n  u'majorsector_percent': [{u'Name': u'Public Administration, Law, and Justice',\n    u'Percent': 70},\n   {u'Name': u'Public Administration, Law, and Justice', u'Percent': 30}],\n  u'mjsector_namecode': [{u'code': u'BX',\n    u'name': u'Public Administration, Law, and Justice'},\n   {u'code': u'BX', u'name': u'Public Administration, Law, and Justice'}],\n  u'mjtheme': [u'Economic management',\n   u'Social protection and risk management'],\n  u'mjtheme_namecode': [{u'code': u'1', u'name': u'Economic management'},\n   {u'code': u'6', u'name': u'Social protection and risk management'}],\n  u'mjthemecode': u'1,6',\n  u'prodline': u'RE',\n  u'prodlinetext': u'Recipient Executed Activities',\n  u'productlinetype': u'L',\n  u'project_name': u'TN: DTF Social Protection Reforms Support',\n  u'projectdocs': [{u'DocDate': u'29-MAR-2013',\n    u'DocType': u'PID',\n    u'DocTypeDesc': u'Project Information Document (PID),  Vol.1 of 1',\n    u'DocURL': u'http://www-wds.worldbank.org/servlet/WDSServlet?pcont=details&eid=000333037_20131024115616',\n    u'EntityID': u'000333037_20131024115616'},\n   {u'DocDate': u'29-MAR-2013',\n    u'DocType': u'ISDS',\n    u'DocTypeDesc': u'Integrated Safeguards Data Sheet (ISDS),  Vol.1 of 1',\n    u'DocURL': u'http://www-wds.worldbank.org/servlet/WDSServlet?pcont=details&eid=000356161_20131024151611',\n    u'EntityID': u'000356161_20131024151611'},\n   {u'DocDate': u'29-MAR-2013',\n    u'DocType': u'ISDS',\n    u'DocTypeDesc': u'Integrated Safeguards Data Sheet (ISDS),  Vol.1 of 1',\n    u'DocURL': u'http://www-wds.worldbank.org/servlet/WDSServlet?pcont=details&eid=000442464_20131031112136',\n    u'EntityID': u'000442464_20131031112136'},\n   {u'DocDate': u'29-MAR-2013',\n    u'DocType': u'PID',\n    u'DocTypeDesc': u'Project Information Document (PID),  Vol.1 of 1',\n    u'DocURL': u'http://www-wds.worldbank.org/servlet/WDSServlet?pcont=details&eid=000333037_20131031105716',\n    u'EntityID': u'000333037_20131031105716'},\n   {u'DocDate': u'16-JAN-2013',\n    u'DocType': u'ISDS',\n    u'DocTypeDesc': u'Integrated Safeguards Data Sheet (ISDS),  Vol.1 of 1',\n    u'DocURL': u'http://www-wds.worldbank.org/servlet/WDSServlet?pcont=details&eid=000356161_20130305113209',\n    u'EntityID': u'000356161_20130305113209'},\n   {u'DocDate': u'16-JAN-2013',\n    u'DocType': u'PID',\n    u'DocTypeDesc': u'Project Information Document (PID),  Vol.1 of 1',\n    u'DocURL': u'http://www-wds.worldbank.org/servlet/WDSServlet?pcont=details&eid=000356161_20130305113716',\n    u'EntityID': u'000356161_20130305113716'}],\n  u'projectfinancialtype': u'OTHER',\n  u'projectstatusdisplay': u'Active',\n  u'regionname': u'Middle East and North Africa',\n  u'sector': [{u'Name': u'Public administration- Other social services'},\n   {u'Name': u'General public administration sector'}],\n  u'sector1': {u'Name': u'Public administration- Other social services',\n   u'Percent': 70},\n  u'sector2': {u'Name': u'General public administration sector',\n   u'Percent': 30},\n  u'sector_namecode': [{u'code': u'BS',\n    u'name': u'Public administration- Other social services'},\n   {u'code': u'BZ', u'name': u'General public administration sector'}],\n  u'sectorcode': u'BZ,BS',\n  u'source': u'IBRD',\n  u'status': u'Active',\n  u'supplementprojectflg': u'N',\n  u'theme1': {u'Name': u'Other economic management', u'Percent': 30},\n  u'theme_namecode': [{u'code': u'24', u'name': u'Other economic management'},\n   {u'code': u'54', u'name': u'Social safety nets'}],\n  u'themecode': u'54,24',\n  u'totalamt': 0,\n  u'totalcommamt': 4700000,\n  u'url': u'http://www.worldbank.org/projects/P144674?lang=en'}]"
      ]
     },
     "execution_count": 7,
     "metadata": {},
     "output_type": "execute_result"
    }
   ],
   "source": [
    "# load json as string\n",
    "json.load((open('Data_Wrangling/data_wrangling_json/data/world_bank_projects_less.j'\n",
    "                'son')))"
   ]
  },
  {
   "cell_type": "code",
   "execution_count": null,
   "metadata": {
    "collapsed": true
   },
   "outputs": [],
   "source": [
    "# load as Pandas dataframe\n",
    "sample_json_df = pd.read_json('Data_Wrangling/data_wrangling_json/data/world_bank_projects_less.json')\n",
    "print sample_json_df\n",
    "#sample_json_df.groupby([countryname])\n",
    "****\n",
    "## JSON exercise\n",
    "\n",
    "Using data in file 'data/world_bank_projects.json' and the techniques demonstrated above,\n",
    "1. Find the 10 countries with most projects\n",
    "2. Find the top 10 major project themes (using column 'mjtheme_namecode')\n",
    "3. In 2. above you will notice that some entries have only the code and the name is missing. Create a dataframe with the missing names filled in."
   ]
  },
  {
   "cell_type": "code",
   "execution_count": null,
   "metadata": {
    "collapsed": false
   },
   "outputs": [
    {
     "data": {
      "text/plain": [
       "People's Republic of China         19\nRepublic of Indonesia              19\nSocialist Republic of Vietnam      17\nRepublic of India                  16\nRepublic of Yemen                  13\nKingdom of Morocco                 12\nPeople's Republic of Bangladesh    12\nNepal                              12\nRepublic of Mozambique             11\nAfrica                             11\nName: countryname, dtype: int64"
      ]
     },
     "execution_count": 9,
     "metadata": {},
     "output_type": "execute_result"
    }
   ],
   "source": [
    "#1 Find the 10 countries with the most projects\n",
    "import json\n",
    "import pandas as pd\n",
    "from pandas.io.json import json_normalize\n",
    "world_bank_projects_df = pd.read_json('Data_Wrangling/data_wrangling_json/data/world_bank_projects.json')\n",
    "world_bank_projects_df_country = world_bank_projects_df.countryname\n",
    "world_bank_projects_df.countryname.value_counts().head(10)"
   ]
  },
  {
   "cell_type": "code",
   "execution_count": 10,
   "metadata": {
    "collapsed": true
   },
   "outputs": [
    {
     "data": {
      "text/plain": [
       "[{u'code': u'11', u'name': u'Environment and natural resources management'}, {u'code': u'11', u'name': u'Environment and natural resources management'}]                                                                                            12\n[{u'code': u'8', u'name': u'Human development'}, {u'code': u'11', u'name': u''}]                                                                                                                                                                    11\n[{u'code': u'8', u'name': u'Human development'}, {u'code': u'8', u'name': u'Human development'}]                                                                                                                                                     8\n[{u'code': u'4', u'name': u'Financial and private sector development'}, {u'code': u'4', u'name': u'Financial and private sector development'}]                                                                                                       6\n[{u'code': u'2', u'name': u'Public sector governance'}, {u'code': u'2', u'name': u'Public sector governance'}, {u'code': u'2', u'name': u'Public sector governance'}]                                                                                6\n[{u'code': u'8', u'name': u'Human development'}, {u'code': u'7', u'name': u'Social dev/gender/inclusion'}]                                                                                                                                           5\n[{u'code': u'8', u'name': u'Human development'}, {u'code': u'8', u'name': u'Human development'}, {u'code': u'8', u'name': u'Human development'}, {u'code': u'8', u'name': u'Human development'}, {u'code': u'8', u'name': u'Human development'}]     5\n[{u'code': u'11', u'name': u'Environment and natural resources management'}, {u'code': u'11', u'name': u''}]                                                                                                                                         5\n[{u'code': u'11', u'name': u'Environment and natural resources management'}, {u'code': u'4', u'name': u''}]                                                                                                                                          5\n[{u'code': u'4', u'name': u'Financial and private sector development'}, {u'code': u'5', u'name': u'Trade and integration'}]                                                                                                                          5\nName: mjtheme_namecode, dtype: int64"
      ]
     },
     "execution_count": 10,
     "metadata": {},
     "output_type": "execute_result"
    }
   ],
   "source": [
    "world_bank_projects_df.mjtheme_namecode.value_counts().head(10)"
   ]
  },
  {
   "cell_type": "code",
   "execution_count": 11,
   "metadata": {},
   "outputs": [
    {
     "name": "stdout",
     "output_type": "stream",
     "text": [
      "(u'11', u'Environment and natural resources management', 250)\n(u'10', u'Rural development', 216)\n(u'1', u'Economic management', 38)\n(u'3', u'Rule of law', 15)\n(u'2', u'Public sector governance', 199)\n(u'5', u'Trade and integration', 77)\n(u'4', u'Financial and private sector development', 146)\n(u'7', u'Social dev/gender/inclusion', 130)\n(u'6', u'Social protection and risk management', 168)\n(u'9', u'Urban development', 50)\n(u'8', u'Human development', 210)\n"
     ]
    }
   ],
   "source": [
    "from collections import defaultdict\n",
    "from pprint import pprint\n",
    "table = world_bank_projects_df.mjtheme_namecode\n",
    "code_names = {}\n",
    "code_counts = defaultdict(int)\n",
    "\n",
    "for dictlist in table:\n",
    "    for d in dictlist:\n",
    "        code, name = d['code'], d['name']\n",
    "        if code not in code_names or (name != '' and code_names[code] == ''):\n",
    "            code_names[code] = name\n",
    "        elif name != '' and code_names[code] != '' and name != code_names[code]:\n",
    "            raise Exception('duplicate non-empty value for code: {}'.format(code))\n",
    "        code_counts[code] += 1\n",
    "\n",
    "for code in code_names.keys():\n",
    "    print(code, code_names[code], code_counts[code])"
   ]
  },
  {
   "cell_type": "code",
   "execution_count": 12,
   "metadata": {},
   "outputs": [],
   "source": [
    "data = world_bank_projects_df.mjtheme_namecode.value_counts().head(10)"
   ]
  },
  {
   "cell_type": "code",
   "execution_count": 13,
   "metadata": {},
   "outputs": [
    {
     "name": "stdout",
     "output_type": "stream",
     "text": [
      "(u'11', u'Environment and natural resources management', 250)\n(u'10', u'Rural development', 216)\n(u'1', u'Economic management', 38)\n(u'3', u'Rule of law', 15)\n(u'2', u'Public sector governance', 199)\n(u'5', u'Trade and integration', 77)\n(u'4', u'Financial and private sector development', 146)\n(u'7', u'Social dev/gender/inclusion', 130)\n(u'6', u'Social protection and risk management', 168)\n(u'9', u'Urban development', 50)\n(u'8', u'Human development', 210)\n"
     ]
    }
   ],
   "source": [
    "# less elegant way of doing it\n",
    "from collections import defaultdict\n",
    "from pprint import pprint\n",
    "\n",
    "table = world_bank_projects_df.mjtheme_namecode\n",
    "code_names = {}\n",
    "code_counts = defaultdict(int)\n",
    "\n",
    "for dictlist in table:\n",
    "    for d in dictlist:\n",
    "        code, name = d['code'], d['name']\n",
    "        if code not in code_names:\n",
    "            code_names[code] = name\n",
    "        elif name != '' and code_names[code] == '':\n",
    "            code_names[code] = name\n",
    "        elif name == '' and code_names[code] == '':\n",
    "            pass\n",
    "        elif name == '' and code_names[code] != '':\n",
    "            pass\n",
    "        elif name != '' and code_names[code] != '': \n",
    "            if name != code_names[code]:\n",
    "                raise Exception('duplicate non-empty value for code: {}'.format(code))\n",
    "            else:\n",
    "                pass\n",
    "        code_counts[code] += 1\n",
    "\n",
    "for code in code_names.keys():\n",
    "    print(code, code_names[code], code_counts[code])\n",
    "\n",
    "for dictlist in table:\n",
    "    for d in dictlist:\n",
    "        code, name = d['code'], d['name']\n",
    "        if d['name'] == '':\n",
    "            d['name'] = code_names[code]"
   ]
  },
  {
   "cell_type": "code",
   "execution_count": 14,
   "metadata": {
    "collapsed": false
   },
   "outputs": [
    {
     "name": "stdout",
     "output_type": "stream",
     "text": [
      "(u'11', u'Environment and natural resources management', 250)\n(u'10', u'Rural development', 216)\n(u'1', u'Economic management', 38)\n(u'3', u'Rule of law', 15)\n(u'2', u'Public sector governance', 199)\n(u'5', u'Trade and integration', 77)\n(u'4', u'Financial and private sector development', 146)\n(u'7', u'Social dev/gender/inclusion', 130)\n(u'6', u'Social protection and risk management', 168)\n(u'9', u'Urban development', 50)\n(u'8', u'Human development', 210)\n"
     ]
    }
   ],
   "source": [
    "from collections import defaultdict\n",
    "from pprint import pprint\n",
    "\n",
    "table = world_bank_projects_df.mjtheme_namecode\n",
    "\n",
    "code_names = {}\n",
    "code_counts = defaultdict(int)\n",
    "\n",
    "for dictlist in table:\n",
    "    for d in dictlist:\n",
    "        code, name = d['code'], d['name']\n",
    "        if code not in code_names:\n",
    "            # new code we haven't seen yet\n",
    "            code_names[code] = name\n",
    "        elif name != '' and code_names[code] == '':\n",
    "            # replace blank name with a non-blank name\n",
    "            code_names[code] = name\n",
    "        elif name == '' and code_names[code] == '':\n",
    "            # both are blank so do nothing\n",
    "            pass\n",
    "        elif name == '' and code_names[code] != '':\n",
    "            # previous is non-blank and current is blank so do nothing\n",
    "            pass\n",
    "        elif name != '' and code_names[code] != '': \n",
    "            # both are non-blank so investigate names further\n",
    "            if name != code_names[code]:\n",
    "                # non-empty names don't match so throw exception\n",
    "                raise Exception('duplicate non-empty value for code: {}'.format(code))\n",
    "            else:\n",
    "                # non-empty names match so do nothing\n",
    "                pass\n",
    "        code_counts[code] += 1\n",
    "\n",
    "for code in code_names.keys():\n",
    "    print(code, code_names[code], code_counts[code])\n",
    "    \n",
    "for dictlist in table:\n",
    "    for d in dictlist:\n",
    "        code, name = d['code'], d['name']\n",
    "        if name == '':\n",
    "                d['name'] = code_names[code]"
   ]
  },
  {
   "cell_type": "code",
   "execution_count": 15,
   "metadata": {
    "collapsed": true
   },
   "outputs": [
    {
     "data": {
      "text/plain": [
       "[{u'code': u'11', u'name': u'Environment and natural resources management'}, {u'code': u'11', u'name': u'Environment and natural resources management'}]                 17\n[{u'code': u'8', u'name': u'Human development'}, {u'code': u'11', u'name': u'Environment and natural resources management'}]                                             12\n[{u'code': u'8', u'name': u'Human development'}, {u'code': u'8', u'name': u'Human development'}]                                                                         11\n[{u'code': u'6', u'name': u'Social protection and risk management'}, {u'code': u'6', u'name': u'Social protection and risk management'}]                                  8\n[{u'code': u'11', u'name': u'Environment and natural resources management'}, {u'code': u'4', u'name': u'Financial and private sector development'}]                       7\n[{u'code': u'4', u'name': u'Financial and private sector development'}, {u'code': u'4', u'name': u'Financial and private sector development'}]                            7\n[{u'code': u'2', u'name': u'Public sector governance'}, {u'code': u'2', u'name': u'Public sector governance'}, {u'code': u'2', u'name': u'Public sector governance'}]     6\n[{u'code': u'8', u'name': u'Human development'}, {u'code': u'7', u'name': u'Social dev/gender/inclusion'}]                                                                6\n[{u'code': u'11', u'name': u'Environment and natural resources management'}, {u'code': u'10', u'name': u'Rural development'}]                                             6\n[{u'code': u'2', u'name': u'Public sector governance'}, {u'code': u'2', u'name': u'Public sector governance'}]                                                            5\nName: mjtheme_namecode, dtype: int64"
      ]
     },
     "execution_count": 15,
     "metadata": {},
     "output_type": "execute_result"
    }
   ],
   "source": [
    "world_bank_projects_df.mjtheme_namecode.value_counts().head(10)"
   ]
  },
  {
   "cell_type": "code",
   "execution_count": 16,
   "metadata": {
    "collapsed": true
   },
   "outputs": [
    {
     "ename": "TypeError",
     "evalue": "string indices must be integers",
     "traceback": [
      "\u001b[0;31m\u001b[0m",
      "\u001b[0;31mTypeError\u001b[0mTraceback (most recent call last)",
      "\u001b[0;32m<ipython-input-16-9791ad55bc7c>\u001b[0m in \u001b[0;36m<module>\u001b[0;34m()\u001b[0m\n\u001b[1;32m      2\u001b[0m \u001b[0;34m\u001b[0m\u001b[0m\n\u001b[1;32m      3\u001b[0m \u001b[0mdata1\u001b[0m \u001b[0;34m=\u001b[0m \u001b[0mworld_bank_projects_df\u001b[0m\u001b[0;34m.\u001b[0m\u001b[0mmjtheme_namecode\u001b[0m\u001b[0;31m#.value_counts().head(10)\u001b[0m\u001b[0;34m\u001b[0m\u001b[0m\n\u001b[0;32m----> 4\u001b[0;31m \u001b[0mresult\u001b[0m \u001b[0;34m=\u001b[0m \u001b[0mjson_normalize\u001b[0m\u001b[0;34m(\u001b[0m\u001b[0mworld_bank_projects_df\u001b[0m\u001b[0;34m,\u001b[0m \u001b[0;34m[\u001b[0m\u001b[0;34m'id'\u001b[0m\u001b[0;34m,\u001b[0m \u001b[0;34m'mjtheme_namecode'\u001b[0m\u001b[0;34m]\u001b[0m\u001b[0;34m)\u001b[0m\u001b[0;34m\u001b[0m\u001b[0m\n\u001b[0m\u001b[1;32m      5\u001b[0m \u001b[0;32mfor\u001b[0m \u001b[0mentry\u001b[0m \u001b[0;32min\u001b[0m \u001b[0mresult\u001b[0m\u001b[0;34m:\u001b[0m\u001b[0;34m\u001b[0m\u001b[0m\n\u001b[1;32m      6\u001b[0m     \u001b[0;32mprint\u001b[0m \u001b[0mresult\u001b[0m\u001b[0;34m\u001b[0m\u001b[0m\n",
      "\u001b[0;32m/home/skultra/anaconda2/lib/python2.7/site-packages/pandas/io/json/normalize.pyc\u001b[0m in \u001b[0;36mjson_normalize\u001b[0;34m(data, record_path, meta, meta_prefix, record_prefix, errors, sep)\u001b[0m\n\u001b[1;32m    246\u001b[0m                 \u001b[0mrecords\u001b[0m\u001b[0;34m.\u001b[0m\u001b[0mextend\u001b[0m\u001b[0;34m(\u001b[0m\u001b[0mrecs\u001b[0m\u001b[0;34m)\u001b[0m\u001b[0;34m\u001b[0m\u001b[0m\n\u001b[1;32m    247\u001b[0m \u001b[0;34m\u001b[0m\u001b[0m\n\u001b[0;32m--> 248\u001b[0;31m     \u001b[0m_recursive_extract\u001b[0m\u001b[0;34m(\u001b[0m\u001b[0mdata\u001b[0m\u001b[0;34m,\u001b[0m \u001b[0mrecord_path\u001b[0m\u001b[0;34m,\u001b[0m \u001b[0;34m{\u001b[0m\u001b[0;34m}\u001b[0m\u001b[0;34m,\u001b[0m \u001b[0mlevel\u001b[0m\u001b[0;34m=\u001b[0m\u001b[0;36m0\u001b[0m\u001b[0;34m)\u001b[0m\u001b[0;34m\u001b[0m\u001b[0m\n\u001b[0m\u001b[1;32m    249\u001b[0m \u001b[0;34m\u001b[0m\u001b[0m\n\u001b[1;32m    250\u001b[0m     \u001b[0mresult\u001b[0m \u001b[0;34m=\u001b[0m \u001b[0mDataFrame\u001b[0m\u001b[0;34m(\u001b[0m\u001b[0mrecords\u001b[0m\u001b[0;34m)\u001b[0m\u001b[0;34m\u001b[0m\u001b[0m\n",
      "\u001b[0;32m/home/skultra/anaconda2/lib/python2.7/site-packages/pandas/io/json/normalize.pyc\u001b[0m in \u001b[0;36m_recursive_extract\u001b[0;34m(data, path, seen_meta, level)\u001b[0m\n\u001b[1;32m    219\u001b[0m                         \u001b[0mseen_meta\u001b[0m\u001b[0;34m[\u001b[0m\u001b[0mkey\u001b[0m\u001b[0;34m]\u001b[0m \u001b[0;34m=\u001b[0m \u001b[0m_pull_field\u001b[0m\u001b[0;34m(\u001b[0m\u001b[0mobj\u001b[0m\u001b[0;34m,\u001b[0m \u001b[0mval\u001b[0m\u001b[0;34m[\u001b[0m\u001b[0;34m-\u001b[0m\u001b[0;36m1\u001b[0m\u001b[0;34m]\u001b[0m\u001b[0;34m)\u001b[0m\u001b[0;34m\u001b[0m\u001b[0m\n\u001b[1;32m    220\u001b[0m \u001b[0;34m\u001b[0m\u001b[0m\n\u001b[0;32m--> 221\u001b[0;31m                 _recursive_extract(obj[path[0]], path[1:],\n\u001b[0m\u001b[1;32m    222\u001b[0m                                    seen_meta, level=level + 1)\n\u001b[1;32m    223\u001b[0m         \u001b[0;32melse\u001b[0m\u001b[0;34m:\u001b[0m\u001b[0;34m\u001b[0m\u001b[0m\n",
      "\u001b[0;31mTypeError\u001b[0m: string indices must be integers"
     ],
     "output_type": "error"
    }
   ],
   "source": [
    "from pandas.io.json import json_normalize\n",
    "\n",
    "data1 = world_bank_projects_df.mjtheme_namecode#.value_counts().head(10)\n",
    "result = json_normalize(world_bank_projects_df, ['id', 'mjtheme_namecode'])\n",
    "for entry in result:\n",
    "    print result"
   ]
  },
  {
   "cell_type": "code",
   "execution_count": 17,
   "metadata": {},
   "outputs": [],
   "source": [
    ""
   ]
  },
  {
   "cell_type": "code",
   "execution_count": 21,
   "metadata": {},
   "outputs": [
    {
     "name": "stdout",
     "output_type": "stream",
     "text": [
      "Top 10 Major World Bank Project Themes:\n"
     ]
    },
    {
     "data": {
      "text/plain": [
       "code\n1                              Economic management\n10                               Rural development\n11    Environment and natural resources management\n2                         Public sector governance\n3                                      Rule of law\n4         Financial and private sector development\n5                            Trade and integration\n6            Social protection and risk management\n7                      Social dev/gender/inclusion\n8                                Human development\n9                                Urban development\nName: name, dtype: object"
      ]
     },
     "execution_count": 21,
     "metadata": {},
     "output_type": "execute_result"
    }
   ],
   "source": [
    "from pandas.io.json import json_normalize\n",
    "\n",
    "#data1 = world_bank_projects_df.mjtheme_namecode#.value_counts().head(10)\n",
    "#result = json_normalize(world_bank_projects_df, ['id', 'mjtheme_namecode'])\n",
    "#for entry in result:\n",
    "#   print(result)\n",
    "\n",
    "\n",
    "# The following is my code to trouble-shoot:\n",
    "#This code tackles question 2-3:\n",
    "# Load in the raw json file in order to wrangle the nested fields later:\n",
    "with open('Data_Wrangling/data_wrangling_json/data/world_bank_projects.json') as f:\n",
    "    raw = json.load(f)\n",
    "\n",
    "# Solves the fact that there are too many relationship between themes (name and code) and id:\n",
    "df_themes = json_normalize(raw, 'mjtheme_namecode', ['id'])\n",
    "# Groups some projects that have multiple theme codes:\n",
    "df_themes.groupby('id').code.nunique().sort_values(ascending=False).head(10)\n",
    "# This will account for this one to many relationship:\n",
    "print('Top 10 Major World Bank Project Themes:')\n",
    "df_themes.name.value_counts().head(10)\n",
    "# Fill missing values:\n",
    "df_themes = df_themes.groupby(['code']).first()\n",
    "df_themes.name.iloc[2] = \"Environment and natural resources management\"\n",
    "df_themes = df_themes['name'].sort_index()\n",
    "# Prints final answer:\n",
    "df_themes"
   ]
  },
  {
   "cell_type": "code",
   "execution_count": null,
   "metadata": {},
   "outputs": [],
   "source": [
    ""
   ]
  }
 ],
 "metadata": {
  "kernelspec": {
   "display_name": "Python 2",
   "language": "python",
   "name": "python2"
  },
  "language_info": {
   "codemirror_mode": {
    "name": "ipython",
    "version": 2
   },
   "file_extension": ".py",
   "mimetype": "text/x-python",
   "name": "python",
   "nbconvert_exporter": "python",
   "pygments_lexer": "ipython2",
   "version": "2.7.9"
  }
 },
 "nbformat": 4,
 "nbformat_minor": 0
}
