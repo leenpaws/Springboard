{
 "cells": [
  {
   "cell_type": "markdown",
   "metadata": {},
   "source": [
    "# XML example and exercise\n",
    "****\n",
    "+ study examples of accessing nodes in XML tree structure  \n",
    "+ work on exercise to be completed and submitted\n",
    "****\n",
    "+ reference: https://docs.python.org/2.7/library/xml.etree.elementtree.html\n",
    "+ data source: http://www.dbis.informatik.uni-goettingen.de/Mondial\n",
    "****"
   ]
  },
  {
   "cell_type": "code",
   "execution_count": 14,
   "metadata": {
    "collapsed": true
   },
   "outputs": [],
   "source": [
    "from xml.etree import ElementTree as ET"
   ]
  },
  {
   "cell_type": "markdown",
   "metadata": {},
   "source": [
    "## XML example\n",
    "\n",
    "+ for details about tree traversal and iterators, see https://docs.python.org/2.7/library/xml.etree.elementtree.html"
   ]
  },
  {
   "cell_type": "code",
   "execution_count": 15,
   "metadata": {
    "collapsed": true
   },
   "outputs": [],
   "source": [
    "document_tree = ET.parse('Data_Wrangling/data_wrangling_xml/data/mondial_database_less.xml' )"
   ]
  },
  {
   "cell_type": "code",
   "execution_count": 16,
   "metadata": {
    "collapsed": false
   },
   "outputs": [
    {
     "name": "stdout",
     "output_type": "stream",
     "text": [
      "Albania\nGreece\nMacedonia\nSerbia\nMontenegro\nKosovo\nAndorra\n"
     ]
    }
   ],
   "source": [
    "# print names of all countries\n",
    "for child in document_tree.getroot():\n",
    "    print child.find('name').text"
   ]
  },
  {
   "cell_type": "code",
   "execution_count": 17,
   "metadata": {
    "collapsed": false
   },
   "outputs": [
    {
     "name": "stdout",
     "output_type": "stream",
     "text": [
      "* Albania: Tirana, Shkodër, Durrës, Vlorë, Elbasan, Korçë\n* Greece: Komotini, Kavala, Athina, Peiraias, Peristeri, Acharnes, Patra, Kozani, Kerkyra, Ioannina, Thessaloniki, Iraklio, Chania, Ermoupoli, Rhodes, Tripoli, Lamia, Chalkida, Larissa, Volos, Mytilini, Karyes\n* Macedonia: Skopje, Kumanovo\n* Serbia: Beograd, Novi Sad, Niš\n* Montenegro: Podgorica\n* Kosovo: Prishtine\n* Andorra: Andorra la Vella\n"
     ]
    }
   ],
   "source": [
    "# print names of all countries and their cities\n",
    "for element in document_tree.iterfind('country'):\n",
    "    print '* ' + element.find('name').text + ':',\n",
    "    capitals_string = ''\n",
    "    for subelement in element.getiterator('city'):\n",
    "        capitals_string += subelement.find('name').text + ', '\n",
    "    print capitals_string[:-2]"
   ]
  },
  {
   "cell_type": "markdown",
   "metadata": {},
   "source": [
    "****\n",
    "## XML exercise\n",
    "\n",
    "Using data in 'data/mondial_database.xml', the examples above, and refering to https://docs.python.org/2.7/library/xml.etree.elementtree.html, find\n",
    "\n",
    "1. 10 countries with the lowest infant mortality rates\n",
    "2. 10 cities with the largest population\n",
    "3. 10 ethnic groups with the largest overall populations (sum of best/latest estimates over all countries)\n",
    "4. name and country of a) longest river, b) largest lake and c) airport at highest elevation"
   ]
  },
  {
   "cell_type": "code",
   "execution_count": 42,
   "metadata": {
    "collapsed": false
   },
   "outputs": [
    {
     "name": "stdout",
     "output_type": "stream",
     "text": [
      "infant_mortality\n1.81                   Monaco\n10.16                 Romania\n10.2                     Fiji\n10.48                  Brunei\n10.5                  Grenada\n10.59               Mauritius\n10.7                   Panama\n10.77              Seychelles\n10.92    United Arab Emirates\n10.93                Barbados\nName: name, dtype: object\n"
     ]
    },
    {
     "ename": "KeyError",
     "evalue": "'population year'",
     "traceback": [
      "\u001b[0;31m\u001b[0m",
      "\u001b[0;31mKeyError\u001b[0mTraceback (most recent call last)",
      "\u001b[0;32m<ipython-input-42-15813efe4e77>\u001b[0m in \u001b[0;36m<module>\u001b[0;34m()\u001b[0m\n\u001b[1;32m     21\u001b[0m \u001b[0;34m\u001b[0m\u001b[0m\n\u001b[1;32m     22\u001b[0m \u001b[0;31m# 10 cities with largest population\u001b[0m\u001b[0;34m\u001b[0m\u001b[0;34m\u001b[0m\u001b[0m\n\u001b[0;32m---> 23\u001b[0;31m \u001b[0mtarget_population\u001b[0m \u001b[0;34m=\u001b[0m  \u001b[0moutput_records\u001b[0m\u001b[0;34m.\u001b[0m\u001b[0mgroupby\u001b[0m\u001b[0;34m(\u001b[0m\u001b[0;34m[\u001b[0m\u001b[0;34m'population year'\u001b[0m\u001b[0;34m,\u001b[0m\u001b[0;34m'population'\u001b[0m\u001b[0;34m]\u001b[0m\u001b[0;34m)\u001b[0m\u001b[0;34m.\u001b[0m\u001b[0magg\u001b[0m\u001b[0;34m(\u001b[0m\u001b[0;34m'max'\u001b[0m\u001b[0;34m,\u001b[0m \u001b[0;34m'max'\u001b[0m\u001b[0;34m)\u001b[0m\u001b[0;34m\u001b[0m\u001b[0m\n\u001b[0m\u001b[1;32m     24\u001b[0m \u001b[0;32mprint\u001b[0m \u001b[0mtarget_population\u001b[0m\u001b[0;34m.\u001b[0m\u001b[0mcity\u001b[0m\u001b[0;34m.\u001b[0m\u001b[0mhead\u001b[0m\u001b[0;34m(\u001b[0m\u001b[0;36m10\u001b[0m\u001b[0;34m)\u001b[0m\u001b[0;34m\u001b[0m\u001b[0m\n\u001b[1;32m     25\u001b[0m \u001b[0;34m\u001b[0m\u001b[0m\n",
      "\u001b[0;32m/home/skultra/anaconda2/lib/python2.7/site-packages/pandas/core/generic.pyc\u001b[0m in \u001b[0;36mgroupby\u001b[0;34m(self, by, axis, level, as_index, sort, group_keys, squeeze, **kwargs)\u001b[0m\n\u001b[1;32m   4414\u001b[0m         return groupby(self, by=by, axis=axis, level=level, as_index=as_index,\n\u001b[1;32m   4415\u001b[0m                        \u001b[0msort\u001b[0m\u001b[0;34m=\u001b[0m\u001b[0msort\u001b[0m\u001b[0;34m,\u001b[0m \u001b[0mgroup_keys\u001b[0m\u001b[0;34m=\u001b[0m\u001b[0mgroup_keys\u001b[0m\u001b[0;34m,\u001b[0m \u001b[0msqueeze\u001b[0m\u001b[0;34m=\u001b[0m\u001b[0msqueeze\u001b[0m\u001b[0;34m,\u001b[0m\u001b[0;34m\u001b[0m\u001b[0m\n\u001b[0;32m-> 4416\u001b[0;31m                        **kwargs)\n\u001b[0m\u001b[1;32m   4417\u001b[0m \u001b[0;34m\u001b[0m\u001b[0m\n\u001b[1;32m   4418\u001b[0m     def asfreq(self, freq, method=None, how=None, normalize=False,\n",
      "\u001b[0;32m/home/skultra/anaconda2/lib/python2.7/site-packages/pandas/core/groupby.pyc\u001b[0m in \u001b[0;36mgroupby\u001b[0;34m(obj, by, **kwds)\u001b[0m\n\u001b[1;32m   1697\u001b[0m         \u001b[0;32mraise\u001b[0m \u001b[0mTypeError\u001b[0m\u001b[0;34m(\u001b[0m\u001b[0;34m'invalid type: %s'\u001b[0m \u001b[0;34m%\u001b[0m \u001b[0mtype\u001b[0m\u001b[0;34m(\u001b[0m\u001b[0mobj\u001b[0m\u001b[0;34m)\u001b[0m\u001b[0;34m)\u001b[0m\u001b[0;34m\u001b[0m\u001b[0m\n\u001b[1;32m   1698\u001b[0m \u001b[0;34m\u001b[0m\u001b[0m\n\u001b[0;32m-> 1699\u001b[0;31m     \u001b[0;32mreturn\u001b[0m \u001b[0mklass\u001b[0m\u001b[0;34m(\u001b[0m\u001b[0mobj\u001b[0m\u001b[0;34m,\u001b[0m \u001b[0mby\u001b[0m\u001b[0;34m,\u001b[0m \u001b[0;34m**\u001b[0m\u001b[0mkwds\u001b[0m\u001b[0;34m)\u001b[0m\u001b[0;34m\u001b[0m\u001b[0m\n\u001b[0m\u001b[1;32m   1700\u001b[0m \u001b[0;34m\u001b[0m\u001b[0m\n\u001b[1;32m   1701\u001b[0m \u001b[0;34m\u001b[0m\u001b[0m\n",
      "\u001b[0;32m/home/skultra/anaconda2/lib/python2.7/site-packages/pandas/core/groupby.pyc\u001b[0m in \u001b[0;36m__init__\u001b[0;34m(self, obj, keys, axis, level, grouper, exclusions, selection, as_index, sort, group_keys, squeeze, **kwargs)\u001b[0m\n\u001b[1;32m    390\u001b[0m                                                     \u001b[0mlevel\u001b[0m\u001b[0;34m=\u001b[0m\u001b[0mlevel\u001b[0m\u001b[0;34m,\u001b[0m\u001b[0;34m\u001b[0m\u001b[0m\n\u001b[1;32m    391\u001b[0m                                                     \u001b[0msort\u001b[0m\u001b[0;34m=\u001b[0m\u001b[0msort\u001b[0m\u001b[0;34m,\u001b[0m\u001b[0;34m\u001b[0m\u001b[0m\n\u001b[0;32m--> 392\u001b[0;31m                                                     mutated=self.mutated)\n\u001b[0m\u001b[1;32m    393\u001b[0m \u001b[0;34m\u001b[0m\u001b[0m\n\u001b[1;32m    394\u001b[0m         \u001b[0mself\u001b[0m\u001b[0;34m.\u001b[0m\u001b[0mobj\u001b[0m \u001b[0;34m=\u001b[0m \u001b[0mobj\u001b[0m\u001b[0;34m\u001b[0m\u001b[0m\n",
      "\u001b[0;32m/home/skultra/anaconda2/lib/python2.7/site-packages/pandas/core/groupby.pyc\u001b[0m in \u001b[0;36m_get_grouper\u001b[0;34m(obj, key, axis, level, sort, mutated)\u001b[0m\n\u001b[1;32m   2688\u001b[0m                 \u001b[0min_axis\u001b[0m\u001b[0;34m,\u001b[0m \u001b[0mname\u001b[0m\u001b[0;34m,\u001b[0m \u001b[0mlevel\u001b[0m\u001b[0;34m,\u001b[0m \u001b[0mgpr\u001b[0m \u001b[0;34m=\u001b[0m \u001b[0mFalse\u001b[0m\u001b[0;34m,\u001b[0m \u001b[0mNone\u001b[0m\u001b[0;34m,\u001b[0m \u001b[0mgpr\u001b[0m\u001b[0;34m,\u001b[0m \u001b[0mNone\u001b[0m\u001b[0;34m\u001b[0m\u001b[0m\n\u001b[1;32m   2689\u001b[0m             \u001b[0;32melse\u001b[0m\u001b[0;34m:\u001b[0m\u001b[0;34m\u001b[0m\u001b[0m\n\u001b[0;32m-> 2690\u001b[0;31m                 \u001b[0;32mraise\u001b[0m \u001b[0mKeyError\u001b[0m\u001b[0;34m(\u001b[0m\u001b[0mgpr\u001b[0m\u001b[0;34m)\u001b[0m\u001b[0;34m\u001b[0m\u001b[0m\n\u001b[0m\u001b[1;32m   2691\u001b[0m         \u001b[0;32melif\u001b[0m \u001b[0misinstance\u001b[0m\u001b[0;34m(\u001b[0m\u001b[0mgpr\u001b[0m\u001b[0;34m,\u001b[0m \u001b[0mGrouper\u001b[0m\u001b[0;34m)\u001b[0m \u001b[0;32mand\u001b[0m \u001b[0mgpr\u001b[0m\u001b[0;34m.\u001b[0m\u001b[0mkey\u001b[0m \u001b[0;32mis\u001b[0m \u001b[0;32mnot\u001b[0m \u001b[0mNone\u001b[0m\u001b[0;34m:\u001b[0m\u001b[0;34m\u001b[0m\u001b[0m\n\u001b[1;32m   2692\u001b[0m             \u001b[0;31m# Add key to exclusions\u001b[0m\u001b[0;34m\u001b[0m\u001b[0;34m\u001b[0m\u001b[0m\n",
      "\u001b[0;31mKeyError\u001b[0m: 'population year'"
     ],
     "output_type": "error"
    }
   ],
   "source": [
    "from xml.etree import ElementTree as ET\n",
    "import pandas as pd\n",
    "import pprint\n",
    "\n",
    "#convert xml structure to pandas dataframe using same method as with JSON\n",
    "xml_data = open('Data_Wrangling/data_wrangling_xml/data/mondial_database.xml').read()\n",
    "def xml2df(xml_data):\n",
    "    root = ET.XML(xml_data) #element tree hence ET\n",
    "    all_records = [] #record list to convert to df\n",
    "    for i, child in enumerate(root): #loop through ET\n",
    "        record = {} #place holder for record\n",
    "        for subchild in child: #iterate through subchildren\n",
    "            record[subchild.tag] = subchild.text #extract text to create key, value\n",
    "            all_records.append(record) #append to all_records\n",
    "    return pd.DataFrame(all_records) #return records\n",
    "\n",
    "output_records = xml2df(xml_data)\n",
    "# 10 countries with lowest infant mortality rates\n",
    "target_infant_mortality = output_records.groupby('infant_mortality').min()\n",
    "print target_infant_mortality.name.head(10) #gives lowest(min()) mortality rates ascending\n",
    "\n",
    "# 10 cities with largest population\n",
    "#got key error\n",
    "#target_population =  output_records.groupby(['population year','population']).agg('max', 'max')\n",
    "target_population = output_records.groupby('population').max()\n",
    "print target_population.city.head(10)\n",
    "\n",
    "#10 ethnic groups with largest overall populations(sum of best/latest estimates over all countries\n",
    "output_records['ethnicpopulation'] = output_records.population * output_records['ethnicgroup percentage'] * .001\n",
    "\n",
    "target_ethnicgroup =  output_records.groupby(['ethnicgroup'])['ethnicpopulation'].sum()\n",
    "    \n",
    "print target_ethnicgroup.head(10)\n",
    "\n",
    "#different method doesn't work\n",
    "#document = ET.parse('Data_Wrangling/data_wrangling_xml/data/mondial_database.xml' )\n",
    "#root = document_tree.getroot()\n",
    "#for max(country.infant_mortality), country.name in root.iter('country'):\n",
    "#    print country.name, country.infant_mortality"
   ]
  },
  {
   "cell_type": "code",
   "execution_count": 64,
   "metadata": {},
   "outputs": [
    {
     "ename": "FeatureNotFound",
     "evalue": "Couldn't find a tree builder with the features you requested: r. Do you need to install a parser library?",
     "traceback": [
      "\u001b[0;31m\u001b[0m",
      "\u001b[0;31mFeatureNotFound\u001b[0mTraceback (most recent call last)",
      "\u001b[0;32m<ipython-input-64-739782f86ab2>\u001b[0m in \u001b[0;36m<module>\u001b[0;34m()\u001b[0m\n\u001b[1;32m      7\u001b[0m \u001b[0;31m#root = document.getroot()\u001b[0m\u001b[0;34m\u001b[0m\u001b[0;34m\u001b[0m\u001b[0m\n\u001b[1;32m      8\u001b[0m soup = BeautifulSoup(open('Data_Wrangling/data_wrangling_xml/data/mondial_database.xml'), \n\u001b[0;32m----> 9\u001b[0;31m                           'r')\n\u001b[0m\u001b[1;32m     10\u001b[0m \u001b[0msoup\u001b[0m\u001b[0;34m.\u001b[0m\u001b[0mfind_all\u001b[0m\u001b[0;34m(\u001b[0m\u001b[0;34m'name'\u001b[0m\u001b[0;34m,\u001b[0m \u001b[0;34m'infant_mortality'\u001b[0m\u001b[0;34m)\u001b[0m\u001b[0;34m\u001b[0m\u001b[0m\n\u001b[1;32m     11\u001b[0m \u001b[0;34m\u001b[0m\u001b[0m\n",
      "\u001b[0;32m/home/skultra/anaconda2/lib/python2.7/site-packages/bs4/__init__.pyc\u001b[0m in \u001b[0;36m__init__\u001b[0;34m(self, markup, features, builder, parse_only, from_encoding, exclude_encodings, **kwargs)\u001b[0m\n\u001b[1;32m    163\u001b[0m                     \u001b[0;34m\"Couldn't find a tree builder with the features you \"\u001b[0m\u001b[0;34m\u001b[0m\u001b[0m\n\u001b[1;32m    164\u001b[0m                     \u001b[0;34m\"requested: %s. Do you need to install a parser library?\"\u001b[0m\u001b[0;34m\u001b[0m\u001b[0m\n\u001b[0;32m--> 165\u001b[0;31m                     % \",\".join(features))\n\u001b[0m\u001b[1;32m    166\u001b[0m             \u001b[0mbuilder\u001b[0m \u001b[0;34m=\u001b[0m \u001b[0mbuilder_class\u001b[0m\u001b[0;34m(\u001b[0m\u001b[0;34m)\u001b[0m\u001b[0;34m\u001b[0m\u001b[0m\n\u001b[1;32m    167\u001b[0m             if not (original_features == builder.NAME or\n",
      "\u001b[0;31mFeatureNotFound\u001b[0m: Couldn't find a tree builder with the features you requested: r. Do you need to install a parser library?"
     ],
     "output_type": "error"
    }
   ],
   "source": [
    "from bs4 import BeautifulSoup\n",
    "from xml.etree import ElementTree as ET\n",
    "from lxml import etree\n",
    "\n",
    "document = ET.parse('Data_Wrangling/data_wrangling_xml/data/mondial_database.xml' )\n",
    "\n",
    "#root = document.getroot()\n",
    "soup = BeautifulSoup(open('Data_Wrangling/data_wrangling_xml/data/mondial_database.xml'), \n",
    "                          'r')\n",
    "soup.find_all('name', 'infant_mortality')\n",
    "\n",
    "#for infant_mortality, name in root.iter('country'):\n",
    " #   if infant_mortality == max(infant_mortality):\n",
    "  #      print name, infant_mortality"
   ]
  },
  {
   "cell_type": "code",
   "execution_count": 109,
   "metadata": {
    "collapsed": true
   },
   "outputs": [
    {
     "name": "stdout",
     "output_type": "stream",
     "text": [
      "Albania <Element 'infant_mortality' at 0x7f50bf8ae1d0>\nGreece <Element 'infant_mortality' at 0x7f50c7a56790>\nMacedonia <Element 'infant_mortality' at 0x7f50bdf9f290>\nSerbia <Element 'infant_mortality' at 0x7f50c7d47910>\nMontenegro None\nKosovo None\nAndorra <Element 'infant_mortality' at 0x7f50c7a10d10>\nFrance <Element 'infant_mortality' at 0x7f50c0976290>\nSpain <Element 'infant_mortality' at 0x7f50c18ed990>\nAustria <Element 'infant_mortality' at 0x7f50c9090590>\nCzech Republic <Element 'infant_mortality' at 0x7f50bfeadad0>\nGermany <Element 'infant_mortality' at 0x7f50c1d8c810>\nHungary <Element 'infant_mortality' at 0x7f50c19d94d0>\nItaly <Element 'infant_mortality' at 0x7f50bf820ed0>\nLiechtenstein <Element 'infant_mortality' at 0x7f50bd856ad0>\nSlovakia <Element 'infant_mortality' at 0x7f50bd85f450>\nSlovenia <Element 'infant_mortality' at 0x7f50bd87d650>\nSwitzerland <Element 'infant_mortality' at 0x7f50bfc50390>\nBelarus <Element 'infant_mortality' at 0x7f50bd256390>\nLatvia <Element 'infant_mortality' at 0x7f50bd273490>\nLithuania <Element 'infant_mortality' at 0x7f50bd2840d0>\nPoland <Element 'infant_mortality' at 0x7f50bd284fd0>\nUkraine <Element 'infant_mortality' at 0x7f50c9d21e10>\nRussia <Element 'infant_mortality' at 0x7f50c1061750>\nBelgium <Element 'infant_mortality' at 0x7f50c9aa0f10>\nLuxembourg <Element 'infant_mortality' at 0x7f50c7a27a90>\nNetherlands <Element 'infant_mortality' at 0x7f50c7a32a90>\nBosnia and Herzegovina <Element 'infant_mortality' at 0x7f50c1cec590>\nCroatia <Element 'infant_mortality' at 0x7f50c1cfa890>\nBulgaria <Element 'infant_mortality' at 0x7f50c1d08cd0>\nRomania <Element 'infant_mortality' at 0x7f50c161d0d0>\nTurkey <Element 'infant_mortality' at 0x7f50c0d603d0>\nDenmark <Element 'infant_mortality' at 0x7f50c05b6510>\nEstonia <Element 'infant_mortality' at 0x7f50c220c750>\nFaroe Islands <Element 'infant_mortality' at 0x7f50c2219490>\nFinland <Element 'infant_mortality' at 0x7f50c2219dd0>\nNorway <Element 'infant_mortality' at 0x7f50c1110e90>\nSweden <Element 'infant_mortality' at 0x7f50c0ce0590>\nMonaco <Element 'infant_mortality' at 0x7f50c1ff1d10>\nGibraltar <Element 'infant_mortality' at 0x7f50c2002b90>\nGuernsey <Element 'infant_mortality' at 0x7f50c9ecb490>\nHoly See None\nCeuta None\nMelilla None\nIceland <Element 'infant_mortality' at 0x7f50c9ed7dd0>\nIreland <Element 'infant_mortality' at 0x7f50c9ef13d0>\nSan Marino <Element 'infant_mortality' at 0x7f50c9efe290>\nJersey <Element 'infant_mortality' at 0x7f50c9efef10>\nMalta <Element 'infant_mortality' at 0x7f50c7e947d0>\nIsle of Man <Element 'infant_mortality' at 0x7f50c7e96350>\nMoldova <Element 'infant_mortality' at 0x7f50c7e96ad0>\nPortugal <Element 'infant_mortality' at 0x7f50c7e9ab10>\nSvalbard None\nUnited Kingdom <Element 'infant_mortality' at 0x7f50c2691890>\nAfghanistan <Element 'infant_mortality' at 0x7f50c17a6090>\nChina <Element 'infant_mortality' at 0x7f50c17a6e50>\nIran <Element 'infant_mortality' at 0x7f50c0c03910>\nPakistan <Element 'infant_mortality' at 0x7f50c070fe10>\nTajikistan <Element 'infant_mortality' at 0x7f50c80d6e50>\nTurkmenistan <Element 'infant_mortality' at 0x7f50c80e38d0>\nUzbekistan <Element 'infant_mortality' at 0x7f50c8102310>\nArmenia <Element 'infant_mortality' at 0x7f50c0da3590>\nGeorgia <Element 'infant_mortality' at 0x7f50c0da3f90>\nAzerbaijan <Element 'infant_mortality' at 0x7f50c0dc1090>\nBahrain <Element 'infant_mortality' at 0x7f50c228b0d0>\nBangladesh <Element 'infant_mortality' at 0x7f50c228bb10>\nMyanmar <Element 'infant_mortality' at 0x7f50c22b5690>\nIndia <Element 'infant_mortality' at 0x7f50bd056f50>\nBhutan <Element 'infant_mortality' at 0x7f50c2088190>\nBrunei <Element 'infant_mortality' at 0x7f50c2088a50>\nMalaysia <Element 'infant_mortality' at 0x7f50c238d3d0>\nLaos <Element 'infant_mortality' at 0x7f50c23bcf90>\nThailand <Element 'infant_mortality' at 0x7f50c23c7b90>\nCambodia <Element 'infant_mortality' at 0x7f50c031e290>\nVietnam <Element 'infant_mortality' at 0x7f50c031ebd0>\nKazakhstan <Element 'infant_mortality' at 0x7f50c03454d0>\nNorth Korea <Element 'infant_mortality' at 0x7f50c0583f10>\nKyrgyzstan <Element 'infant_mortality' at 0x7f50c1c5cf90>\nHong Kong <Element 'infant_mortality' at 0x7f50c1c63ed0>\nMacao <Element 'infant_mortality' at 0x7f50c1c74790>\nMongolia <Element 'infant_mortality' at 0x7f50c1c7d0d0>\nNepal <Element 'infant_mortality' at 0x7f50c1c7db50>\nChristmas Island None\nCocos Islands None\nCyprus <Element 'infant_mortality' at 0x7f50bff92490>\nGaza Strip <Element 'infant_mortality' at 0x7f50bffa80d0>\nIsrael <Element 'infant_mortality' at 0x7f50bffa8910>\nEgypt <Element 'infant_mortality' at 0x7f50bffc8e90>\nIndonesia <Element 'infant_mortality' at 0x7f50bdfad1d0>\nTimor-Leste <Element 'infant_mortality' at 0x7f50c03a9310>\nPapua New Guinea <Element 'infant_mortality' at 0x7f50c03a9b90>\nIraq <Element 'infant_mortality' at 0x7f50c03b4590>\nJordan <Element 'infant_mortality' at 0x7f50c18de890>\nKuwait <Element 'infant_mortality' at 0x7f50c18f1610>\nSaudi Arabia <Element 'infant_mortality' at 0x7f50c18f1f90>\nSyria <Element 'infant_mortality' at 0x7f50c0e9ab90>\nLebanon <Element 'infant_mortality' at 0x7f50c9371090>\nWest Bank <Element 'infant_mortality' at 0x7f50c9371850>\nJapan <Element 'infant_mortality' at 0x7f50c9366350>\nSouth Korea <Element 'infant_mortality' at 0x7f50bd709c90>\nMaldives <Element 'infant_mortality' at 0x7f50bd740050>\nOman <Element 'infant_mortality' at 0x7f50bd740910>\nUnited Arab Emirates <Element 'infant_mortality' at 0x7f50c0460510>\nYemen <Element 'infant_mortality' at 0x7f50c0453510>\nPhilippines <Element 'infant_mortality' at 0x7f50c0462750>\nQatar <Element 'infant_mortality' at 0x7f50c09adb50>\nSingapore <Element 'infant_mortality' at 0x7f50c09b8690>\nSri Lanka <Element 'infant_mortality' at 0x7f50c098b250>\nTaiwan <Element 'infant_mortality' at 0x7f50c08cd050>\nAnguilla <Element 'infant_mortality' at 0x7f50c08e1450>\nAntigua and Barbuda <Element 'infant_mortality' at 0x7f50c08e1e50>\nAruba <Element 'infant_mortality' at 0x7f50c08ee690>\nBahamas <Element 'infant_mortality' at 0x7f50c08eeed0>\nBarbados <Element 'infant_mortality' at 0x7f50c08fe910>\nBelize <Element 'infant_mortality' at 0x7f50cde24210>\nGuatemala <Element 'infant_mortality' at 0x7f50cde24e10>\nMexico <Element 'infant_mortality' at 0x7f50cde1fc10>\nBermuda <Element 'infant_mortality' at 0x7f50ceee8e50>\nBritish Virgin Islands <Element 'infant_mortality' at 0x7f50ceedd810>\nCanada <Element 'infant_mortality' at 0x7f50ceed24d0>\nUnited States <Element 'infant_mortality' at 0x7f50bd01e110>\nCayman Islands <Element 'infant_mortality' at 0x7f50c16f87d0>\nCosta Rica <Element 'infant_mortality' at 0x7f50c16d72d0>\nNicaragua <Element 'infant_mortality' at 0x7f50c16f91d0>\nPanama <Element 'infant_mortality' at 0x7f50c1706a10>\nCuba <Element 'infant_mortality' at 0x7f50c1530850>\nDominica <Element 'infant_mortality' at 0x7f50c12e8490>\nDominican Republic <Element 'infant_mortality' at 0x7f50c12e8d90>\nHaiti <Element 'infant_mortality' at 0x7f50c12f88d0>\nEl Salvador <Element 'infant_mortality' at 0x7f50c12dcc10>\nHonduras <Element 'infant_mortality' at 0x7f50c270de90>\nGreenland <Element 'infant_mortality' at 0x7f50c2748d90>\nGrenada <Element 'infant_mortality' at 0x7f50c218f550>\nGuadeloupe <Element 'infant_mortality' at 0x7f50c218fc10>\nJamaica <Element 'infant_mortality' at 0x7f50c21a1490>\nMartinique <Element 'infant_mortality' at 0x7f50c21a1d10>\nMontserrat <Element 'infant_mortality' at 0x7f50c21b05d0>\nCuracao None\nSint Maarten <Element 'infant_mortality' at 0x7f50c21c0690>\nSaint Martin None\nSaint Barthelemy None\nColombia <Element 'infant_mortality' at 0x7f50c194f950>\nPuerto Rico <Element 'infant_mortality' at 0x7f50c9c80a10>\nSaint Kitts and Nevis <Element 'infant_mortality' at 0x7f50c9a77910>\nSaint Lucia <Element 'infant_mortality' at 0x7f50c9a4f190>\nSaint Pierre and Miquelon <Element 'infant_mortality' at 0x7f50c9a4fa90>\nSaint Vincent and the Grenadines <Element 'infant_mortality' at 0x7f50c9a5c2d0>\nTrinidad and Tobago <Element 'infant_mortality' at 0x7f50c9a5ca10>\nTurks and Caicos Islands <Element 'infant_mortality' at 0x7f50c9a73390>\nVirgin Islands <Element 'infant_mortality' at 0x7f50c9a73c90>\nAmerican Samoa <Element 'infant_mortality' at 0x7f50c9a805d0>\nAustralia <Element 'infant_mortality' at 0x7f50c1e4d210>\nCook Islands <Element 'infant_mortality' at 0x7f50c1e7ab90>\nFiji <Element 'infant_mortality' at 0x7f50c1e86510>\nFrench Polynesia <Element 'infant_mortality' at 0x7f50c1e86e50>\nGuam <Element 'infant_mortality' at 0x7f50c060a710>\nKiribati <Element 'infant_mortality' at 0x7f50c061c050>\nMarshall Islands <Element 'infant_mortality' at 0x7f50c061c990>\nMicronesia <Element 'infant_mortality' at 0x7f50c0629390>\nNauru <Element 'infant_mortality' at 0x7f50c0629f90>\nNew Caledonia <Element 'infant_mortality' at 0x7f50c063a850>\nNew Zealand <Element 'infant_mortality' at 0x7f50c0649510>\nNiue None\nNorfolk Island None\nNorthern Mariana Islands <Element 'infant_mortality' at 0x7f50c971b850>\nPalau <Element 'infant_mortality' at 0x7f50c97272d0>\nPitcairn None\nSolomon Islands <Element 'infant_mortality' at 0x7f50c973a1d0>\nTonga <Element 'infant_mortality' at 0x7f50c973acd0>\nTuvalu <Element 'infant_mortality' at 0x7f50ca3fe4d0>\nTokelau None\nVanuatu <Element 'infant_mortality' at 0x7f50ca4204d0>\nWallis and Futuna <Element 'infant_mortality' at 0x7f50ca420f50>\nSamoa <Element 'infant_mortality' at 0x7f50ca409850>\nArgentina <Element 'infant_mortality' at 0x7f50ca41d110>\nBolivia <Element 'infant_mortality' at 0x7f50c1afe250>\nBrazil <Element 'infant_mortality' at 0x7f50c1aeb9d0>\nChile <Element 'infant_mortality' at 0x7f50c11eda10>\nParaguay <Element 'infant_mortality' at 0x7f50c988fb10>\nUruguay <Element 'infant_mortality' at 0x7f50c9897790>\nPeru <Element 'infant_mortality' at 0x7f50c98a7490>\nFrench Guiana <Element 'infant_mortality' at 0x7f50c06b5c90>\nGuyana <Element 'infant_mortality' at 0x7f50c06c7510>\nSuriname <Element 'infant_mortality' at 0x7f50c871c050>\nVenezuela <Element 'infant_mortality' at 0x7f50c871cb50>\nEcuador <Element 'infant_mortality' at 0x7f50c7ed2990>\nFalkland Islands None\nAlgeria <Element 'infant_mortality' at 0x7f50c7f00090>\nLibya <Element 'infant_mortality' at 0x7f50bfa90a50>\nMali <Element 'infant_mortality' at 0x7f50bfaa38d0>\nMauritania <Element 'infant_mortality' at 0x7f50bfac7ad0>\nMorocco <Element 'infant_mortality' at 0x7f50c8fe9550>\nNiger <Element 'infant_mortality' at 0x7f50c04d67d0>\nTunisia <Element 'infant_mortality' at 0x7f50c04f8c10>\nWestern Sahara <Element 'infant_mortality' at 0x7f50c0506690>\nAngola <Element 'infant_mortality' at 0x7f50c0506d50>\nCongo <Element 'infant_mortality' at 0x7f50c095da10>\nNamibia <Element 'infant_mortality' at 0x7f50c231edd0>\nZaire <Element 'infant_mortality' at 0x7f50c23177d0>\nZambia <Element 'infant_mortality' at 0x7f50c23454d0>\nBenin <Element 'infant_mortality' at 0x7f50cb30f690>\nBurkina Faso <Element 'infant_mortality' at 0x7f50cb31d410>\nNigeria <Element 'infant_mortality' at 0x7f50cb31df10>\nTogo <Element 'infant_mortality' at 0x7f50c0492b10>\nBotswana <Element 'infant_mortality' at 0x7f50c04a1590>\nSouth Africa <Element 'infant_mortality' at 0x7f50c04b32d0>\nZimbabwe <Element 'infant_mortality' at 0x7f50c0c6a090>\nCote dIvoire <Element 'infant_mortality' at 0x7f50c0c6acd0>\nGhana <Element 'infant_mortality' at 0x7f50c0c7ba90>\nBurundi <Element 'infant_mortality' at 0x7f50c20ea950>\nRwanda <Element 'infant_mortality' at 0x7f50c20f71d0>\nTanzania <Element 'infant_mortality' at 0x7f50c20f7b10>\nCameroon <Element 'infant_mortality' at 0x7f50c210a450>\nCentral African Republic <Element 'infant_mortality' at 0x7f50c2120dd0>\nChad <Element 'infant_mortality' at 0x7f50c212ea50>\nEquatorial Guinea <Element 'infant_mortality' at 0x7f50c2140390>\nGabon <Element 'infant_mortality' at 0x7f50c2140f90>\nCape Verde <Element 'infant_mortality' at 0x7f50c1404b50>\nSudan <Element 'infant_mortality' at 0x7f50c13cc490>\nSouth Sudan <Element 'infant_mortality' at 0x7f50c13e1890>\nComoros <Element 'infant_mortality' at 0x7f50c13f1090>\nGuinea <Element 'infant_mortality' at 0x7f50c13f1850>\nLiberia <Element 'infant_mortality' at 0x7f50c1400410>\nDjibouti <Element 'infant_mortality' at 0x7f50c1400d90>\nEritrea <Element 'infant_mortality' at 0x7f50ca28a790>\nEthiopia <Element 'infant_mortality' at 0x7f50ca28e150>\nSomalia <Element 'infant_mortality' at 0x7f50ca2b5e90>\nKenya <Element 'infant_mortality' at 0x7f50ca294710>\nGambia <Element 'infant_mortality' at 0x7f50ca1a2c10>\nSenegal <Element 'infant_mortality' at 0x7f50ca197450>\nGuinea-Bissau <Element 'infant_mortality' at 0x7f50bd9b63d0>\nSierra Leone <Element 'infant_mortality' at 0x7f50bd9b6c10>\nUganda <Element 'infant_mortality' at 0x7f50bd98b690>\nLesotho <Element 'infant_mortality' at 0x7f50bd99d750>\nMadagascar <Element 'infant_mortality' at 0x7f50bd99ded0>\nMalawi <Element 'infant_mortality' at 0x7f50bd9aed10>\nMozambique <Element 'infant_mortality' at 0x7f50bd9c16d0>\nMauritius <Element 'infant_mortality' at 0x7f50c9667650>\nMayotte <Element 'infant_mortality' at 0x7f50c9667dd0>\nSwaziland <Element 'infant_mortality' at 0x7f50c96754d0>\nReunion <Element 'infant_mortality' at 0x7f50c9675c10>\nSaint Helena <Element 'infant_mortality' at 0x7f50c96871d0>\nSao Tome and Principe <Element 'infant_mortality' at 0x7f50c9687910>\nSeychelles <Element 'infant_mortality' at 0x7f50c26e5250>\n"
     ]
    }
   ],
   "source": [
    "from bs4 import BeautifulSoup\n",
    "from xml.etree import ElementTree as ET\n",
    "\n",
    "\n",
    "output = {}\n",
    "\n",
    "mondial_tree = ET.parse('Data_Wrangling/data_wrangling_xml/data/mondial_database.xml')\n",
    "root = mondial_tree.getroot()\n",
    "\n",
    "for country in root.findall('country'):\n",
    "    name = country.find('name').text\n",
    "    print name, country.find('infant_mortality')"
   ]
  },
  {
   "cell_type": "code",
   "execution_count": null,
   "metadata": {},
   "outputs": [],
   "source": [
    ""
   ]
  }
 ],
 "metadata": {
  "kernelspec": {
   "display_name": "Python 2",
   "language": "python",
   "name": "python2"
  },
  "language_info": {
   "codemirror_mode": {
    "name": "ipython",
    "version": 2
   },
   "file_extension": ".py",
   "mimetype": "text/x-python",
   "name": "python",
   "nbconvert_exporter": "python",
   "pygments_lexer": "ipython2",
   "version": "2.7.9"
  }
 },
 "nbformat": 4,
 "nbformat_minor": 0
}
