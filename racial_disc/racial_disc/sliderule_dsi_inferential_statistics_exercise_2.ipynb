{
 "cells": [
  {
   "cell_type": "markdown",
   "metadata": {},
   "source": [
    "# Examining Racial Discrimination in the US Job Market\n",
    "\n",
    "### Background\n",
    "Racial discrimination continues to be pervasive in cultures throughout the world. Researchers examined the level of racial discrimination in the United States labor market by randomly assigning identical résumés to black-sounding or white-sounding names and observing the impact on requests for interviews from employers.\n",
    "\n",
    "### Data\n",
    "In the dataset provided, each row represents a resume. The 'race' column has two values, 'b' and 'w', indicating black-sounding and white-sounding. The column 'call' has two values, 1 and 0, indicating whether the resume received a call from employers or not.\n",
    "\n",
    "Note that the 'b' and 'w' values in race are assigned randomly to the resumes when presented to the employer."
   ]
  },
  {
   "cell_type": "markdown",
   "metadata": {},
   "source": [
    "### Exercises\n",
    "You will perform a statistical analysis to establish whether race has a significant impact on the rate of callbacks for resumes.\n",
    "\n",
    "Answer the following questions **in this notebook below and submit to your Github account**. \n",
    "\n",
    "   1. What test is appropriate for this problem? Does CLT apply?\n",
    "   2. What are the null and alternate hypotheses?\n",
    "   3. Compute margin of error, confidence interval, and p-value.\n",
    "   4. Write a story describing the statistical significance in the context or the original problem.\n",
    "   5. Does your analysis mean that race/name is the most important factor in callback success? Why or why not? If not, how would you amend your analysis?\n",
    "\n",
    "You can include written notes in notebook cells using Markdown: \n",
    "   - In the control panel at the top, choose Cell > Cell Type > Markdown\n",
    "   - Markdown syntax: http://nestacms.com/docs/creating-content/markdown-cheat-sheet\n",
    "\n",
    "\n",
    "#### Resources\n",
    "+ Experiment information and data source: http://www.povertyactionlab.org/evaluation/discrimination-job-market-united-states\n",
    "+ Scipy statistical methods: http://docs.scipy.org/doc/scipy/reference/stats.html \n",
    "+ Markdown syntax: http://nestacms.com/docs/creating-content/markdown-cheat-sheet\n",
    "****"
   ]
  },
  {
   "cell_type": "code",
   "execution_count": 3,
   "metadata": {
    "collapsed": true
   },
   "outputs": [],
   "source": [
    "import pandas as pd\n",
    "import numpy as np\n",
    "from scipy import stats\n",
    "import matplotlib as plt\n",
    "import seaborn as sns\n"
   ]
  },
  {
   "cell_type": "markdown",
   "metadata": {
    "collapsed": false
   },
   "source": [
    ""
   ]
  },
  {
   "cell_type": "code",
   "execution_count": 4,
   "metadata": {},
   "outputs": [],
   "source": []
  },
  {
   "cell_type": "code",
   "execution_count": 4,
   "metadata": {},
   "outputs": [],
   "source": [
    ""
   ]
  },
  {
   "cell_type": "code",
   "execution_count": 4,
   "metadata": {},
   "outputs": [],
   "source": [
    "data = pd.io.stata.read_stata('racial_disc/data/us_job_market_discrimination.dta')"
   ]
  },
  {
   "cell_type": "code",
   "execution_count": 58,
   "metadata": {
    "collapsed": false
   },
   "outputs": [
    {
     "name": "stdout",
     "output_type": "stream",
     "text": [
      "157.0 2435 4870\n"
     ]
    }
   ],
   "source": [
    "# number of callbacks for black-sounding names\n",
    "alt_hypothesis = sum(data[data.race=='b'].call)\n",
    "# total number of blacks\n",
    "palt_hypothesis = sum(data.race=='b')\n",
    "null_hypothesis = sum(data[data.race=='w'].call)\n",
    "\n",
    "print(alt_hypothesis,palt_hypothesis, len(data.race))"
   ]
  },
  {
   "cell_type": "code",
   "execution_count": 10,
   "metadata": {
    "collapsed": false
   },
   "outputs": [
    {
     "name": "stdout",
     "output_type": "stream",
     "text": [
      "Index(['id', 'ad', 'education', 'ofjobs', 'yearsexp', 'honors', 'volunteer',\n       'military', 'empholes', 'occupspecific', 'occupbroad', 'workinschool',\n       'email', 'computerskills', 'specialskills', 'firstname', 'sex', 'race',\n       'h', 'l', 'call', 'city', 'kind', 'adid', 'fracblack', 'fracwhite',\n       'lmedhhinc', 'fracdropout', 'fraccolp', 'linc', 'col', 'expminreq',\n       'schoolreq', 'eoe', 'parent_sales', 'parent_emp', 'branch_sales',\n       'branch_emp', 'fed', 'fracblack_empzip', 'fracwhite_empzip',\n       'lmedhhinc_empzip', 'fracdropout_empzip', 'fraccolp_empzip',\n       'linc_empzip', 'manager', 'supervisor', 'secretary', 'offsupport',\n       'salesrep', 'retailsales', 'req', 'expreq', 'comreq', 'educreq',\n       'compreq', 'orgreq', 'manuf', 'transcom', 'bankreal', 'trade',\n       'busservice', 'othservice', 'missind', 'ownership'],\n      dtype='object')\n"
     ]
    }
   ],
   "source": [
    "data.columns\n",
    "relevant_df = data[['id', 'race', 'call']]\n",
    "relevant_unused_df= data[['id','education','computerskills','specialskills','expminreq','schoolreq','expreq','comreq','educreq','compreq','orgreq']]\n",
    "print(data.columns)\n"
   ]
  },
  {
   "cell_type": "markdown",
   "metadata": {
    "collapsed": true
   },
   "source": [
    "#1 Correlation/covariance testing would be optimal to see if there is a relationship between the two variables.  CLT does not apply as we are not examining mean, furthermore, given that identical resumes were sent out, these observations are not independent of each other.  \n",
    "\n"
   ]
  },
  {
   "cell_type": "code",
   "execution_count": 57,
   "metadata": {},
   "outputs": [
    {
     "name": "stdout",
     "output_type": "stream",
     "text": [
      "p-value = 0.064476386037\n"
     ]
    }
   ],
   "source": [
    "#margin of error, confidence interval, and p-value\n",
    "\n",
    "\n",
    "\n",
    "\n",
    "# Construct arrays of data: dems, reps\n",
    "B = np.array([True] * int(alt_hypothesis) + [False] * int(palt_hypothesis))\n",
    "\n",
    "W = np.array([True] * int(null_hypothesis) + [False] * int(len(data)-null_hypothesis))\n",
    "frac = alt_hypothesis/len(data)\n",
    "\n",
    "# Compute and print p-value: p\n",
    "p = np.sum(data[data.race =='b'].call > 0) / palt_hypothesis\n",
    "print('p-value =', p)\n",
    "\n",
    "\n"
   ]
  },
  {
   "cell_type": "markdown",
   "metadata": {},
   "source": [
    "Null : race isn't the only factor and/or race does not play a factor\n",
    "Alternate: race is the only factor and/or a major factor\n"
   ]
  },
  {
   "cell_type": "code",
   "execution_count": null,
   "metadata": {},
   "outputs": [],
   "source": [
    "#2 null hypothesis-race does not plays a factor in callbacks\n",
    "print(data.race.unique)"
   ]
  },
  {
   "cell_type": "code",
   "execution_count": 42,
   "metadata": {},
   "outputs": [
    {
     "name": "stdout",
     "output_type": "stream",
     "text": [
      "[ 0.  0.  0.  0.  1.]\n"
     ]
    }
   ],
   "source": [
    "#margin of error\n",
    "data1 = data[data.race=='b'].call\n",
    "resample_data=data1[::12]\n",
    "percentiles=np.array([2.5,25,50,75,97.5])\n",
    "ptiles_resample_data = np.percentile(resample_data, percentiles)\n",
    "\n",
    "print(ptiles_resample_data)"
   ]
  },
  {
   "cell_type": "code",
   "execution_count": null,
   "metadata": {},
   "outputs": [],
   "source": []
  },
  {
   "cell_type": "code",
   "execution_count": null,
   "metadata": {},
   "outputs": [],
   "source": []
  },
  {
   "cell_type": "code",
   "execution_count": null,
   "metadata": {},
   "outputs": [],
   "source": []
  },
  {
   "cell_type": "code",
   "execution_count": null,
   "metadata": {},
   "outputs": [],
   "source": []
  },
  {
   "cell_type": "code",
   "execution_count": null,
   "metadata": {},
   "outputs": [],
   "source": []
  },
  {
   "cell_type": "code",
   "execution_count": null,
   "metadata": {},
   "outputs": [],
   "source": []
  },
  {
   "cell_type": "code",
   "execution_count": null,
   "metadata": {},
   "outputs": [],
   "source": []
  },
  {
   "cell_type": "code",
   "execution_count": null,
   "metadata": {},
   "outputs": [],
   "source": []
  },
  {
   "cell_type": "code",
   "execution_count": null,
   "metadata": {},
   "outputs": [],
   "source": []
  },
  {
   "cell_type": "code",
   "execution_count": null,
   "metadata": {},
   "outputs": [],
   "source": []
  },
  {
   "cell_type": "code",
   "execution_count": null,
   "metadata": {},
   "outputs": [],
   "source": []
  },
  {
   "cell_type": "code",
   "execution_count": null,
   "metadata": {},
   "outputs": [],
   "source": []
  },
  {
   "cell_type": "code",
   "execution_count": null,
   "metadata": {},
   "outputs": [],
   "source": []
  },
  {
   "cell_type": "code",
   "execution_count": null,
   "metadata": {},
   "outputs": [],
   "source": []
  },
  {
   "cell_type": "code",
   "execution_count": null,
   "metadata": {},
   "outputs": [],
   "source": []
  },
  {
   "cell_type": "code",
   "execution_count": null,
   "metadata": {},
   "outputs": [],
   "source": []
  },
  {
   "cell_type": "code",
   "execution_count": null,
   "metadata": {},
   "outputs": [],
   "source": []
  }
 ],
 "metadata": {
  "kernelspec": {
   "display_name": "Python 2",
   "language": "python",
   "name": "python2"
  },
  "language_info": {
   "codemirror_mode": {
    "name": "ipython",
    "version": 2
   },
   "file_extension": ".py",
   "mimetype": "text/x-python",
   "name": "python",
   "nbconvert_exporter": "python",
   "pygments_lexer": "ipython2",
   "version": "2.7.12"
  }
 },
 "nbformat": 4,
 "nbformat_minor": 0
}
